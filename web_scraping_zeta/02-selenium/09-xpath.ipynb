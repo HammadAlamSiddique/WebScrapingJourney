{
 "cells": [
  {
   "cell_type": "code",
   "execution_count": 5,
   "metadata": {},
   "outputs": [],
   "source": [
    "from selenium import webdriver\n",
    "from selenium.webdriver.common.by import By"
   ]
  },
  {
   "cell_type": "code",
   "execution_count": 2,
   "metadata": {},
   "outputs": [
    {
     "name": "stderr",
     "output_type": "stream",
     "text": [
      "C:\\Users\\NLN\\AppData\\Local\\Temp\\ipykernel_10660\\4007574232.py:1: DeprecationWarning: executable_path has been deprecated, please pass in a Service object\n",
      "  driver = webdriver.Chrome('C: /Users/NLN/Downloads/Compressed/chromedriver.exe')\n"
     ]
    }
   ],
   "source": [
    "driver = webdriver.Chrome('C: /Users/NLN/Downloads/Compressed/chromedriver.exe')"
   ]
  },
  {
   "cell_type": "code",
   "execution_count": 3,
   "metadata": {},
   "outputs": [],
   "source": [
    "driver.get('https://www.goat.com/sneakers')"
   ]
  },
  {
   "cell_type": "code",
   "execution_count": 4,
   "metadata": {},
   "outputs": [],
   "source": [
    "driver.maximize_window()"
   ]
  },
  {
   "cell_type": "code",
   "execution_count": 68,
   "metadata": {},
   "outputs": [
    {
     "name": "stdout",
     "output_type": "stream",
     "text": [
      "$177\n",
      "$284\n",
      "$180\n",
      "$148\n",
      "$279\n",
      "$144\n",
      "$307\n",
      "$192\n",
      "$242\n"
     ]
    }
   ],
   "source": [
    "for i in range(1, 10):\n",
    "    price = driver.find_element(By.XPATH, '//*[@id=\"grid-body\"]/div/div[1]/div['+str(i)+']/a/div[1]/div[2]/div/div').text\n",
    "    print(price)"
   ]
  }
 ],
 "metadata": {
  "kernelspec": {
   "display_name": "Python 3",
   "language": "python",
   "name": "python3"
  },
  "language_info": {
   "codemirror_mode": {
    "name": "ipython",
    "version": 3
   },
   "file_extension": ".py",
   "mimetype": "text/x-python",
   "name": "python",
   "nbconvert_exporter": "python",
   "pygments_lexer": "ipython3",
   "version": "3.11.0 (main, Oct 24 2022, 18:26:48) [MSC v.1933 64 bit (AMD64)]"
  },
  "orig_nbformat": 4,
  "vscode": {
   "interpreter": {
    "hash": "418130ca483e386e143512f23ae96779bdad47ad4e6a59ff8b72600d5f974771"
   }
  }
 },
 "nbformat": 4,
 "nbformat_minor": 2
}
