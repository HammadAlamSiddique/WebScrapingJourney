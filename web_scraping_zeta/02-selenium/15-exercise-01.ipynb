{
 "cells": [
  {
   "attachments": {},
   "cell_type": "markdown",
   "metadata": {},
   "source": [
    "## Exercise 01: You have to scrape through following steps:\n",
    "1- set google as your starting page and type in 'top 100 movies of all time' in box\n",
    "\n",
    "2- press enter and then click on the link corresponding to imdb\n",
    "\n",
    "3- create a wait time for the entire page to load\n",
    "\n",
    "4- scroll all the way down to where the movie 'Back to the Future' appear\n",
    "\n",
    "5- take screen shot of the actual page, and get the image of the 'Back to the Future' poster"
   ]
  },
  {
   "cell_type": "code",
   "execution_count": 1,
   "metadata": {},
   "outputs": [],
   "source": [
    "from selenium import webdriver\n",
    "from selenium.webdriver.common.by import By\n",
    "from selenium.webdriver.common.keys import Keys\n",
    "from selenium.webdriver.support.ui import WebDriverWait\n",
    "from selenium.webdriver.support import expected_conditions as EC\n",
    "import time"
   ]
  },
  {
   "cell_type": "code",
   "execution_count": 2,
   "metadata": {},
   "outputs": [
    {
     "name": "stderr",
     "output_type": "stream",
     "text": [
      "C:\\Users\\Hammad\\AppData\\Local\\Temp\\ipykernel_1340\\625693351.py:1: DeprecationWarning: executable_path has been deprecated, please pass in a Service object\n",
      "  driver = webdriver.Chrome('C: /Users/NLN/Downloads/Compressed/chromedriver.exe')\n"
     ]
    }
   ],
   "source": [
    "driver = webdriver.Chrome('C: /Users/NLN/Downloads/Compressed/chromedriver.exe')\n",
    "driver.get('https://www.google.com/webhp?hl=en&sa=X&ved=0ahUKEwiQuficmfb7AhW0XaQEHVoDD3oQPAgI')\n",
    "driver.maximize_window()"
   ]
  },
  {
   "cell_type": "code",
   "execution_count": 3,
   "metadata": {},
   "outputs": [],
   "source": [
    "search_box = driver.find_element(By.XPATH, '/html/body/div[1]/div[3]/form/div[1]/div[1]/div[1]/div/div[2]/input')\n",
    "search_box.send_keys('top 100 movies of all time')"
   ]
  },
  {
   "cell_type": "code",
   "execution_count": 4,
   "metadata": {},
   "outputs": [],
   "source": [
    "search_box.send_keys(Keys.ENTER)"
   ]
  },
  {
   "cell_type": "code",
   "execution_count": 6,
   "metadata": {},
   "outputs": [],
   "source": [
    "imdb_link = driver.find_element(By.XPATH, '//*[@id=\"rso\"]/div[2]/div/div/div/div[2]/ul/li/div/div/div/div[1]/div/a')\n",
    "imdb_link.click()"
   ]
  },
  {
   "cell_type": "code",
   "execution_count": 27,
   "metadata": {},
   "outputs": [],
   "source": [
    "# wait time\n",
    "time.sleep(5)"
   ]
  },
  {
   "cell_type": "code",
   "execution_count": 8,
   "metadata": {},
   "outputs": [],
   "source": [
    "# scrolling to 'Back to the Future' movie\n",
    "element = driver.find_element(By.XPATH, '//*[@id=\"main\"]/div/div[3]/div/div[50]/div[3]')\n",
    "driver.execute_script(\"arguments[0].scrollIntoView(true);\", element)"
   ]
  },
  {
   "cell_type": "code",
   "execution_count": 9,
   "metadata": {},
   "outputs": [
    {
     "data": {
      "text/plain": [
       "True"
      ]
     },
     "execution_count": 9,
     "metadata": {},
     "output_type": "execute_result"
    }
   ],
   "source": [
    "# screen shot of page\n",
    "driver.save_screenshot('movie.png')"
   ]
  },
  {
   "cell_type": "code",
   "execution_count": 10,
   "metadata": {},
   "outputs": [
    {
     "data": {
      "text/plain": [
       "True"
      ]
     },
     "execution_count": 10,
     "metadata": {},
     "output_type": "execute_result"
    }
   ],
   "source": [
    "# save image of the movie posture\n",
    "image = driver.find_element(By.XPATH, '//*[@id=\"main\"]/div/div[3]/div/div[50]/div[2]/a/img')\n",
    "image.screenshot('movie-posture.png')"
   ]
  }
 ],
 "metadata": {
  "kernelspec": {
   "display_name": "Python 3",
   "language": "python",
   "name": "python3"
  },
  "language_info": {
   "codemirror_mode": {
    "name": "ipython",
    "version": 3
   },
   "file_extension": ".py",
   "mimetype": "text/x-python",
   "name": "python",
   "nbconvert_exporter": "python",
   "pygments_lexer": "ipython3",
   "version": "3.11.0"
  },
  "orig_nbformat": 4,
  "vscode": {
   "interpreter": {
    "hash": "418130ca483e386e143512f23ae96779bdad47ad4e6a59ff8b72600d5f974771"
   }
  }
 },
 "nbformat": 4,
 "nbformat_minor": 2
}
