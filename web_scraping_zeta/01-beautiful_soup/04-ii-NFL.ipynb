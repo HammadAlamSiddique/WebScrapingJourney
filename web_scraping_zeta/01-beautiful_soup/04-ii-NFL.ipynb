{
 "cells": [
  {
   "cell_type": "code",
   "execution_count": 2,
   "metadata": {},
   "outputs": [],
   "source": [
    "from bs4 import BeautifulSoup\n",
    "import requests\n",
    "import pandas as pd"
   ]
  },
  {
   "cell_type": "code",
   "execution_count": 3,
   "metadata": {},
   "outputs": [
    {
     "data": {
      "text/plain": [
       "<Response [200]>"
      ]
     },
     "execution_count": 3,
     "metadata": {},
     "output_type": "execute_result"
    }
   ],
   "source": [
    "url = \"https://www.nfl.com/standings/league/2022/REG\"\n",
    "page = requests.get(url)\n",
    "page"
   ]
  },
  {
   "cell_type": "code",
   "execution_count": 4,
   "metadata": {},
   "outputs": [],
   "source": [
    "soup = BeautifulSoup(page.text, 'html.parser')"
   ]
  },
  {
   "attachments": {},
   "cell_type": "markdown",
   "metadata": {},
   "source": [
    "### Scraping Table"
   ]
  },
  {
   "cell_type": "code",
   "execution_count": 5,
   "metadata": {},
   "outputs": [],
   "source": [
    "table = soup.find('table', attrs = {'summary':'Standings - Detailed View'})"
   ]
  },
  {
   "attachments": {},
   "cell_type": "markdown",
   "metadata": {},
   "source": [
    "### headers"
   ]
  },
  {
   "cell_type": "code",
   "execution_count": 6,
   "metadata": {},
   "outputs": [
    {
     "data": {
      "text/plain": [
       "[<th aria-label=\"Division name\" scope=\"col\">NFL Team</th>,\n",
       " <th aria-label=\"WINS\" scope=\"col\">W</th>,\n",
       " <th aria-label=\"LOSSES\" scope=\"col\">L</th>,\n",
       " <th aria-label=\"TIES\" scope=\"col\">T</th>,\n",
       " <th aria-label=\"PCT\" scope=\"col\">PCT</th>,\n",
       " <th aria-label=\"PF\" scope=\"col\">PF</th>,\n",
       " <th aria-label=\"PA\" scope=\"col\">PA</th>,\n",
       " <th aria-label=\"NET PTS\" scope=\"col\">Net Pts</th>,\n",
       " <th aria-label=\"HOME\" scope=\"col\">Home</th>,\n",
       " <th aria-label=\"ROAD\" scope=\"col\">Road</th>,\n",
       " <th aria-label=\"DIV\" scope=\"col\">Div</th>,\n",
       " <th aria-label=\"PCT\" scope=\"col\">Pct</th>,\n",
       " <th aria-label=\"CONF\" scope=\"col\">Conf</th>,\n",
       " <th aria-label=\"PCT\" scope=\"col\">Pct</th>,\n",
       " <th aria-label=\"NON-CONF\" scope=\"col\">Non-Conf</th>,\n",
       " <th aria-label=\"STRK\" scope=\"col\">Strk</th>,\n",
       " <th aria-label=\"LAST 5\" scope=\"col\">Last 5</th>]"
      ]
     },
     "execution_count": 6,
     "metadata": {},
     "output_type": "execute_result"
    }
   ],
   "source": [
    "all_headers = table.find_all('th')\n",
    "all_headers"
   ]
  },
  {
   "cell_type": "code",
   "execution_count": 7,
   "metadata": {},
   "outputs": [
    {
     "data": {
      "text/plain": [
       "['NFL Team',\n",
       " 'W',\n",
       " 'L',\n",
       " 'T',\n",
       " 'PCT',\n",
       " 'PF',\n",
       " 'PA',\n",
       " 'Net Pts',\n",
       " 'Home',\n",
       " 'Road',\n",
       " 'Div',\n",
       " 'Pct',\n",
       " 'Conf',\n",
       " 'Pct',\n",
       " 'Non-Conf',\n",
       " 'Strk',\n",
       " 'Last 5']"
      ]
     },
     "execution_count": 7,
     "metadata": {},
     "output_type": "execute_result"
    }
   ],
   "source": [
    "headers = []\n",
    "for i in all_headers:\n",
    "    headers.append(i.text)\n",
    "headers"
   ]
  },
  {
   "cell_type": "code",
   "execution_count": 8,
   "metadata": {},
   "outputs": [
    {
     "data": {
      "text/html": [
       "<div>\n",
       "<style scoped>\n",
       "    .dataframe tbody tr th:only-of-type {\n",
       "        vertical-align: middle;\n",
       "    }\n",
       "\n",
       "    .dataframe tbody tr th {\n",
       "        vertical-align: top;\n",
       "    }\n",
       "\n",
       "    .dataframe thead th {\n",
       "        text-align: right;\n",
       "    }\n",
       "</style>\n",
       "<table border=\"1\" class=\"dataframe\">\n",
       "  <thead>\n",
       "    <tr style=\"text-align: right;\">\n",
       "      <th></th>\n",
       "      <th>NFL Team</th>\n",
       "      <th>W</th>\n",
       "      <th>L</th>\n",
       "      <th>T</th>\n",
       "      <th>PCT</th>\n",
       "      <th>PF</th>\n",
       "      <th>PA</th>\n",
       "      <th>Net Pts</th>\n",
       "      <th>Home</th>\n",
       "      <th>Road</th>\n",
       "      <th>Div</th>\n",
       "      <th>Pct</th>\n",
       "      <th>Conf</th>\n",
       "      <th>Pct</th>\n",
       "      <th>Non-Conf</th>\n",
       "      <th>Strk</th>\n",
       "      <th>Last 5</th>\n",
       "    </tr>\n",
       "  </thead>\n",
       "  <tbody>\n",
       "  </tbody>\n",
       "</table>\n",
       "</div>"
      ],
      "text/plain": [
       "Empty DataFrame\n",
       "Columns: [NFL Team, W, L, T, PCT, PF, PA, Net Pts, Home, Road, Div, Pct, Conf, Pct, Non-Conf, Strk, Last 5]\n",
       "Index: []"
      ]
     },
     "execution_count": 8,
     "metadata": {},
     "output_type": "execute_result"
    }
   ],
   "source": [
    "df = pd.DataFrame(columns=headers)\n",
    "df"
   ]
  },
  {
   "attachments": {},
   "cell_type": "markdown",
   "metadata": {},
   "source": [
    "### Scrape all rows and their 'td'"
   ]
  },
  {
   "cell_type": "code",
   "execution_count": 9,
   "metadata": {},
   "outputs": [],
   "source": [
    "all_rows = table.find_all('tr')[1:]"
   ]
  },
  {
   "attachments": {},
   "cell_type": "markdown",
   "metadata": {},
   "source": [
    "### complex one to understand"
   ]
  },
  {
   "cell_type": "code",
   "execution_count": 11,
   "metadata": {},
   "outputs": [],
   "source": [
    "for row in all_rows:\n",
    "    first_td = row.find_all('td')[0].find('div', {'class':'d3-o-club-fullname'}).text\n",
    "\n",
    "    row_data = row.find_all('td')[1:]\n",
    "    row_strip = [td.text for td in row_data]\n",
    "    \n",
    "    row_strip.insert(0, first_td)\n",
    "    length = len(df)\n",
    "    df.loc[length] = row_strip"
   ]
  },
  {
   "cell_type": "code",
   "execution_count": 12,
   "metadata": {},
   "outputs": [],
   "source": [
    "df.to_excel('NFL.xlsx')"
   ]
  },
  {
   "cell_type": "code",
   "execution_count": null,
   "metadata": {},
   "outputs": [],
   "source": [
    "# df.to_csv('NFL.csv')"
   ]
  }
 ],
 "metadata": {
  "kernelspec": {
   "display_name": "Python 3",
   "language": "python",
   "name": "python3"
  },
  "language_info": {
   "codemirror_mode": {
    "name": "ipython",
    "version": 3
   },
   "file_extension": ".py",
   "mimetype": "text/x-python",
   "name": "python",
   "nbconvert_exporter": "python",
   "pygments_lexer": "ipython3",
   "version": "3.11.0 (main, Oct 24 2022, 18:26:48) [MSC v.1933 64 bit (AMD64)]"
  },
  "orig_nbformat": 4,
  "vscode": {
   "interpreter": {
    "hash": "418130ca483e386e143512f23ae96779bdad47ad4e6a59ff8b72600d5f974771"
   }
  }
 },
 "nbformat": 4,
 "nbformat_minor": 2
}
