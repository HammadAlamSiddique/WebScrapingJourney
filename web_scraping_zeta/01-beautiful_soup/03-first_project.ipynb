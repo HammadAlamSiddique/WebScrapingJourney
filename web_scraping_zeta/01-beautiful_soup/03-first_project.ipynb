{
 "cells": [
  {
   "cell_type": "code",
   "execution_count": 1,
   "metadata": {},
   "outputs": [],
   "source": [
    "import requests\n",
    "from bs4 import BeautifulSoup\n",
    "import pandas as pd"
   ]
  },
  {
   "cell_type": "code",
   "execution_count": 2,
   "metadata": {},
   "outputs": [
    {
     "data": {
      "text/plain": [
       "<Response [200]>"
      ]
     },
     "execution_count": 2,
     "metadata": {},
     "output_type": "execute_result"
    }
   ],
   "source": [
    "url = \"https://www.worldometers.info/world-population/\"\n",
    "page = requests.get(url)\n",
    "page"
   ]
  },
  {
   "cell_type": "code",
   "execution_count": 3,
   "metadata": {},
   "outputs": [],
   "source": [
    "soup = BeautifulSoup(page.text, 'html.parser')"
   ]
  },
  {
   "attachments": {},
   "cell_type": "markdown",
   "metadata": {},
   "source": [
    "### Table ki scrping shuru"
   ]
  },
  {
   "cell_type": "code",
   "execution_count": 4,
   "metadata": {},
   "outputs": [],
   "source": [
    "table = soup.find('table', {'id' : 'popbycountry'})"
   ]
  },
  {
   "cell_type": "code",
   "execution_count": 5,
   "metadata": {},
   "outputs": [
    {
     "data": {
      "text/plain": [
       "[<th>#</th>,\n",
       " <th>Country (or dependency)</th>,\n",
       " <th>Population<br/>(2020)</th>,\n",
       " <th>Yearly<br/>Change</th>,\n",
       " <th>Net<br/>Change</th>,\n",
       " <th>Density<br/> (P/Km²)</th>,\n",
       " <th>Land Area<br/> (Km²)</th>,\n",
       " <th>Migrants<br/>(net)</th>,\n",
       " <th>Fert.<br/>Rate</th>,\n",
       " <th>Med.<br/>Age</th>,\n",
       " <th>Urban<br/>Pop %</th>,\n",
       " <th>World<br/>Share</th>]"
      ]
     },
     "execution_count": 5,
     "metadata": {},
     "output_type": "execute_result"
    }
   ],
   "source": [
    "all_headers = table.find_all('th')\n",
    "all_headers"
   ]
  },
  {
   "cell_type": "code",
   "execution_count": 6,
   "metadata": {},
   "outputs": [
    {
     "data": {
      "text/plain": [
       "['#',\n",
       " 'Country (or dependency)',\n",
       " 'Population(2020)',\n",
       " 'YearlyChange',\n",
       " 'NetChange',\n",
       " 'Density (P/Km²)',\n",
       " 'Land Area (Km²)',\n",
       " 'Migrants(net)',\n",
       " 'Fert.Rate',\n",
       " 'Med.Age',\n",
       " 'UrbanPop %',\n",
       " 'WorldShare']"
      ]
     },
     "execution_count": 6,
     "metadata": {},
     "output_type": "execute_result"
    }
   ],
   "source": [
    "headers = []\n",
    "for i in all_headers:\n",
    "    title = i.text\n",
    "    headers.append(title)\n",
    "headers"
   ]
  },
  {
   "cell_type": "code",
   "execution_count": 7,
   "metadata": {},
   "outputs": [
    {
     "data": {
      "text/html": [
       "<div>\n",
       "<style scoped>\n",
       "    .dataframe tbody tr th:only-of-type {\n",
       "        vertical-align: middle;\n",
       "    }\n",
       "\n",
       "    .dataframe tbody tr th {\n",
       "        vertical-align: top;\n",
       "    }\n",
       "\n",
       "    .dataframe thead th {\n",
       "        text-align: right;\n",
       "    }\n",
       "</style>\n",
       "<table border=\"1\" class=\"dataframe\">\n",
       "  <thead>\n",
       "    <tr style=\"text-align: right;\">\n",
       "      <th></th>\n",
       "      <th>#</th>\n",
       "      <th>Country (or dependency)</th>\n",
       "      <th>Population(2020)</th>\n",
       "      <th>YearlyChange</th>\n",
       "      <th>NetChange</th>\n",
       "      <th>Density (P/Km²)</th>\n",
       "      <th>Land Area (Km²)</th>\n",
       "      <th>Migrants(net)</th>\n",
       "      <th>Fert.Rate</th>\n",
       "      <th>Med.Age</th>\n",
       "      <th>UrbanPop %</th>\n",
       "      <th>WorldShare</th>\n",
       "    </tr>\n",
       "  </thead>\n",
       "  <tbody>\n",
       "  </tbody>\n",
       "</table>\n",
       "</div>"
      ],
      "text/plain": [
       "Empty DataFrame\n",
       "Columns: [#, Country (or dependency), Population(2020), YearlyChange, NetChange, Density (P/Km²), Land Area (Km²), Migrants(net), Fert.Rate, Med.Age, UrbanPop %, WorldShare]\n",
       "Index: []"
      ]
     },
     "execution_count": 7,
     "metadata": {},
     "output_type": "execute_result"
    }
   ],
   "source": [
    "df = pd.DataFrame(columns=headers)\n",
    "df"
   ]
  },
  {
   "attachments": {},
   "cell_type": "markdown",
   "metadata": {},
   "source": [
    "### yahan tamaam rows ko scrape karhe hain (tricky)"
   ]
  },
  {
   "cell_type": "code",
   "execution_count": 10,
   "metadata": {},
   "outputs": [],
   "source": [
    "# tamaam rows ko siwaye pehle ke qk usme headers hain\n",
    "all_rows = table.find_all('tr')[1:]"
   ]
  },
  {
   "cell_type": "code",
   "execution_count": 11,
   "metadata": {},
   "outputs": [],
   "source": [
    "for j in all_rows:                      # tamaam rows yani tr\n",
    "    row_data = j.find_all('td')         # har tr me se tamaam td nikaalay\n",
    "    row = [tr.text for tr in row_data]  # har td me se text nikaala (actual data)\n",
    "    length = len(df)\n",
    "    df.loc[length] = row"
   ]
  },
  {
   "cell_type": "code",
   "execution_count": 12,
   "metadata": {},
   "outputs": [],
   "source": [
    "# import the table as CSV\n",
    "df.to_csv('scraped_data.csv')"
   ]
  }
 ],
 "metadata": {
  "kernelspec": {
   "display_name": "Python 3",
   "language": "python",
   "name": "python3"
  },
  "language_info": {
   "codemirror_mode": {
    "name": "ipython",
    "version": 3
   },
   "file_extension": ".py",
   "mimetype": "text/x-python",
   "name": "python",
   "nbconvert_exporter": "python",
   "pygments_lexer": "ipython3",
   "version": "3.11.0"
  },
  "orig_nbformat": 4,
  "vscode": {
   "interpreter": {
    "hash": "418130ca483e386e143512f23ae96779bdad47ad4e6a59ff8b72600d5f974771"
   }
  }
 },
 "nbformat": 4,
 "nbformat_minor": 2
}
