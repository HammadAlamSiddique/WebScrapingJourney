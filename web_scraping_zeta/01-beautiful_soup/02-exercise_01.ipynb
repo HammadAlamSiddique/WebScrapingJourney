{
 "cells": [
  {
   "cell_type": "markdown",
   "metadata": {},
   "source": [
    "## Exercise 01: Scraping stock price of Apple Inc\n",
    "#### You have to scrape following:\n",
    "- price of the stock\n",
    "- closing price of the sock\n",
    "- 52 week range (lower, upper)\n",
    "- analysis rating"
   ]
  },
  {
   "cell_type": "code",
   "execution_count": 1,
   "metadata": {},
   "outputs": [],
   "source": [
    "import requests\n",
    "from bs4 import BeautifulSoup"
   ]
  },
  {
   "cell_type": "code",
   "execution_count": 3,
   "metadata": {},
   "outputs": [
    {
     "data": {
      "text/plain": [
       "<Response [200]>"
      ]
     },
     "execution_count": 3,
     "metadata": {},
     "output_type": "execute_result"
    }
   ],
   "source": [
    "url = \"https://www.marketwatch.com/investing/stock/aapl?mod=search_symbol\"\n",
    "page = requests.get(url)\n",
    "page"
   ]
  },
  {
   "cell_type": "code",
   "execution_count": 4,
   "metadata": {},
   "outputs": [],
   "source": [
    "soup = BeautifulSoup(page.text, 'html.parser')"
   ]
  },
  {
   "cell_type": "markdown",
   "metadata": {},
   "source": [
    "### price of the stock"
   ]
  },
  {
   "cell_type": "code",
   "execution_count": 6,
   "metadata": {},
   "outputs": [
    {
     "data": {
      "text/plain": [
       "'132.03'"
      ]
     },
     "execution_count": 6,
     "metadata": {},
     "output_type": "execute_result"
    }
   ],
   "source": [
    "open_price = soup.find('bg-quote', class_='value')\n",
    "open_price.text                    # .strip() ---> removes \\n from both sides of the output"
   ]
  },
  {
   "cell_type": "markdown",
   "metadata": {},
   "source": [
    "### closing price of the stock"
   ]
  },
  {
   "cell_type": "code",
   "execution_count": 7,
   "metadata": {},
   "outputs": [
    {
     "data": {
      "text/plain": [
       "'$132.37 '"
      ]
     },
     "execution_count": 7,
     "metadata": {},
     "output_type": "execute_result"
    }
   ],
   "source": [
    "previous_price = soup.find('td', class_='table__cell u-semi')\n",
    "previous_price.text"
   ]
  },
  {
   "cell_type": "markdown",
   "metadata": {},
   "source": [
    "### 52 week range"
   ]
  },
  {
   "cell_type": "code",
   "execution_count": 8,
   "metadata": {},
   "outputs": [
    {
     "data": {
      "text/plain": [
       "<mw-rangebar bar-high=\"182.94\" bar-low=\"129.04\" class=\"element element--range range--yearly\" day-open=\"135.11\" precision=\"2\" quote-channel=\"/zigman2/quotes/202934861/composite\" range-high=\"182.94\" range-low=\"129.04\">\n",
       "<div class=\"range__header\">\n",
       "<span class=\"primary\">129.04</span>\n",
       "<span class=\"secondary\">52 Week Range</span>\n",
       "<span class=\"primary\">182.94</span>\n",
       "</div>\n",
       "<div class=\"range__container\">\n",
       "<div class=\"indicator-zone\">\n",
       "<div class=\"indicator indicator--yearly\" style=\"left: 6.1781076066790352504638218900%;\"></div>\n",
       "</div>\n",
       "</div>\n",
       "</mw-rangebar>"
      ]
     },
     "execution_count": 8,
     "metadata": {},
     "output_type": "execute_result"
    }
   ],
   "source": [
    "nested = soup.find('mw-rangebar', class_='element element--range range--yearly')\n",
    "nested"
   ]
  },
  {
   "cell_type": "code",
   "execution_count": 9,
   "metadata": {},
   "outputs": [
    {
     "data": {
      "text/plain": [
       "'129.04'"
      ]
     },
     "execution_count": 9,
     "metadata": {},
     "output_type": "execute_result"
    }
   ],
   "source": [
    "lower = nested.find_all('span', class_='primary')[0]\n",
    "lower.text"
   ]
  },
  {
   "cell_type": "code",
   "execution_count": 10,
   "metadata": {},
   "outputs": [
    {
     "data": {
      "text/plain": [
       "'182.94'"
      ]
     },
     "execution_count": 10,
     "metadata": {},
     "output_type": "execute_result"
    }
   ],
   "source": [
    "upper = nested.find_all('span', class_='primary')[1]\n",
    "upper.text"
   ]
  },
  {
   "cell_type": "markdown",
   "metadata": {},
   "source": [
    "### analyst rating"
   ]
  },
  {
   "cell_type": "code",
   "execution_count": 11,
   "metadata": {},
   "outputs": [
    {
     "data": {
      "text/plain": [
       "'Over'"
      ]
     },
     "execution_count": 11,
     "metadata": {},
     "output_type": "execute_result"
    }
   ],
   "source": [
    "analyst_rating = soup.find('li', class_='analyst__option active')\n",
    "analyst_rating.text"
   ]
  }
 ],
 "metadata": {
  "kernelspec": {
   "display_name": "Python 3",
   "language": "python",
   "name": "python3"
  },
  "language_info": {
   "codemirror_mode": {
    "name": "ipython",
    "version": 3
   },
   "file_extension": ".py",
   "mimetype": "text/x-python",
   "name": "python",
   "nbconvert_exporter": "python",
   "pygments_lexer": "ipython3",
   "version": "3.11.0"
  },
  "orig_nbformat": 4,
  "vscode": {
   "interpreter": {
    "hash": "418130ca483e386e143512f23ae96779bdad47ad4e6a59ff8b72600d5f974771"
   }
  }
 },
 "nbformat": 4,
 "nbformat_minor": 2
}
