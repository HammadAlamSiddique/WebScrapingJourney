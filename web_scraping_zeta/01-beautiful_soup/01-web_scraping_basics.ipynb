{
 "cells": [
  {
   "cell_type": "markdown",
   "id": "ae901114",
   "metadata": {},
   "source": [
    "# import libraries"
   ]
  },
  {
   "cell_type": "code",
   "execution_count": 1,
   "id": "6c10634c",
   "metadata": {},
   "outputs": [],
   "source": [
    "import requests\n",
    "from bs4 import BeautifulSoup"
   ]
  },
  {
   "cell_type": "markdown",
   "id": "c468ece7",
   "metadata": {},
   "source": [
    "# url, page and soup"
   ]
  },
  {
   "cell_type": "code",
   "execution_count": 3,
   "id": "9e54a555",
   "metadata": {},
   "outputs": [
    {
     "data": {
      "text/plain": [
       "<Response [200]>"
      ]
     },
     "execution_count": 3,
     "metadata": {},
     "output_type": "execute_result"
    }
   ],
   "source": [
    "url = \"https://webscraper.io/test-sites/e-commerce/allinone/phones/touch\"\n",
    "page = requests.get(url)\n",
    "page"
   ]
  },
  {
   "cell_type": "code",
   "execution_count": 4,
   "id": "6c00ede7",
   "metadata": {},
   "outputs": [],
   "source": [
    "soup = BeautifulSoup(page.text, 'html.parser')"
   ]
  },
  {
   "cell_type": "markdown",
   "id": "d829116b",
   "metadata": {},
   "source": [
    "# find()"
   ]
  },
  {
   "cell_type": "code",
   "execution_count": 5,
   "id": "e866189d",
   "metadata": {},
   "outputs": [
    {
     "data": {
      "text/plain": [
       "{'role': 'banner', 'class': ['navbar', 'navbar-fixed-top', 'navbar-static']}"
      ]
     },
     "execution_count": 5,
     "metadata": {},
     "output_type": "execute_result"
    }
   ],
   "source": [
    "# soup.header\n",
    "# soup.find('header')\n",
    "soup.header.attrs"
   ]
  },
  {
   "cell_type": "code",
   "execution_count": 8,
   "id": "6cabeba8",
   "metadata": {},
   "outputs": [
    {
     "data": {
      "text/plain": [
       "<div class=\"container test-site\">\n",
       "<div class=\"row\">\n",
       "<div class=\"col-md-3 sidebar\">\n",
       "<div class=\"navbar-default sidebar\" role=\"navigation\">\n",
       "<div class=\"sidebar-nav navbar-collapse\">\n",
       "<ul class=\"nav\" id=\"side-menu\">\n",
       "<li>\n",
       "<a href=\"/test-sites/e-commerce/allinone\">Home</a>\n",
       "</li>\n",
       "<li>\n",
       "<a class=\"category-link\" href=\"/test-sites/e-commerce/allinone/computers\">\n",
       "\t\t\t\t\tComputers\n",
       "\t\t\t\t\t<span class=\"fa arrow\"></span>\n",
       "</a>\n",
       "</li>\n",
       "<li class=\"active\">\n",
       "<a class=\"category-link\" href=\"/test-sites/e-commerce/allinone/phones\">\n",
       "\t\t\t\t\tPhones\n",
       "\t\t\t\t\t<span class=\"fa arrow\"></span>\n",
       "</a>\n",
       "<ul class=\"nav nav-second-level collapse in\">\n",
       "<li>\n",
       "<a class=\"subcategory-link active\" href=\"/test-sites/e-commerce/allinone/phones/touch\">\n",
       "\t\t\t\t\t\t\tTouch\n",
       "\t\t\t\t\t\t</a>\n",
       "</li>\n",
       "</ul>\n",
       "</li>\n",
       "</ul>\n",
       "</div>\n",
       "</div>\n",
       "</div>\n",
       "<div class=\"col-md-9\">\n",
       "<h1 class=\"page-header\">Phones / Touch</h1>\n",
       "<div class=\"row\">\n",
       "<div class=\"col-sm-4 col-lg-4 col-md-4\">\n",
       "<div class=\"thumbnail\">\n",
       "<img alt=\"item\" class=\"img-responsive\" src=\"/images/test-sites/e-commerce/items/cart2.png\"/>\n",
       "<div class=\"caption\">\n",
       "<h4 class=\"pull-right price\">$24.99</h4>\n",
       "<h4>\n",
       "<a class=\"title\" href=\"/test-sites/e-commerce/allinone/product/486\" title=\"Nokia 123\">Nokia 123</a>\n",
       "</h4>\n",
       "<p class=\"description\">7 day battery</p>\n",
       "</div>\n",
       "<div class=\"ratings\">\n",
       "<p class=\"pull-right\">11 reviews</p>\n",
       "<p data-rating=\"3\">\n",
       "<span class=\"glyphicon glyphicon-star\"></span>\n",
       "<span class=\"glyphicon glyphicon-star\"></span>\n",
       "<span class=\"glyphicon glyphicon-star\"></span>\n",
       "</p>\n",
       "</div>\n",
       "</div>\n",
       "</div>\n",
       "<div class=\"col-sm-4 col-lg-4 col-md-4\">\n",
       "<div class=\"thumbnail\">\n",
       "<img alt=\"item\" class=\"img-responsive\" src=\"/images/test-sites/e-commerce/items/cart2.png\"/>\n",
       "<div class=\"caption\">\n",
       "<h4 class=\"pull-right price\">$57.99</h4>\n",
       "<h4>\n",
       "<a class=\"title\" href=\"/test-sites/e-commerce/allinone/product/487\" title=\"LG Optimus\">LG Optimus</a>\n",
       "</h4>\n",
       "<p class=\"description\">3.2\" screen</p>\n",
       "</div>\n",
       "<div class=\"ratings\">\n",
       "<p class=\"pull-right\">11 reviews</p>\n",
       "<p data-rating=\"3\">\n",
       "<span class=\"glyphicon glyphicon-star\"></span>\n",
       "<span class=\"glyphicon glyphicon-star\"></span>\n",
       "<span class=\"glyphicon glyphicon-star\"></span>\n",
       "</p>\n",
       "</div>\n",
       "</div>\n",
       "</div>\n",
       "<div class=\"col-sm-4 col-lg-4 col-md-4\">\n",
       "<div class=\"thumbnail\">\n",
       "<img alt=\"item\" class=\"img-responsive\" src=\"/images/test-sites/e-commerce/items/cart2.png\"/>\n",
       "<div class=\"caption\">\n",
       "<h4 class=\"pull-right price\">$93.99</h4>\n",
       "<h4>\n",
       "<a class=\"title\" href=\"/test-sites/e-commerce/allinone/product/488\" title=\"Samsung Galaxy\">Samsung Galaxy</a>\n",
       "</h4>\n",
       "<p class=\"description\">5 mpx. Android 5.0</p>\n",
       "</div>\n",
       "<div class=\"ratings\">\n",
       "<p class=\"pull-right\">3 reviews</p>\n",
       "<p data-rating=\"3\">\n",
       "<span class=\"glyphicon glyphicon-star\"></span>\n",
       "<span class=\"glyphicon glyphicon-star\"></span>\n",
       "<span class=\"glyphicon glyphicon-star\"></span>\n",
       "</p>\n",
       "</div>\n",
       "</div>\n",
       "</div>\n",
       "<div class=\"col-sm-4 col-lg-4 col-md-4\">\n",
       "<div class=\"thumbnail\">\n",
       "<img alt=\"item\" class=\"img-responsive\" src=\"/images/test-sites/e-commerce/items/cart2.png\"/>\n",
       "<div class=\"caption\">\n",
       "<h4 class=\"pull-right price\">$109.99</h4>\n",
       "<h4>\n",
       "<a class=\"title\" href=\"/test-sites/e-commerce/allinone/product/489\" title=\"Nokia X\">Nokia X</a>\n",
       "</h4>\n",
       "<p class=\"description\">Andoid, Jolla dualboot</p>\n",
       "</div>\n",
       "<div class=\"ratings\">\n",
       "<p class=\"pull-right\">4 reviews</p>\n",
       "<p data-rating=\"4\">\n",
       "<span class=\"glyphicon glyphicon-star\"></span>\n",
       "<span class=\"glyphicon glyphicon-star\"></span>\n",
       "<span class=\"glyphicon glyphicon-star\"></span>\n",
       "<span class=\"glyphicon glyphicon-star\"></span>\n",
       "</p>\n",
       "</div>\n",
       "</div>\n",
       "</div>\n",
       "<div class=\"col-sm-4 col-lg-4 col-md-4\">\n",
       "<div class=\"thumbnail\">\n",
       "<img alt=\"item\" class=\"img-responsive\" src=\"/images/test-sites/e-commerce/items/cart2.png\"/>\n",
       "<div class=\"caption\">\n",
       "<h4 class=\"pull-right price\">$118.99</h4>\n",
       "<h4>\n",
       "<a class=\"title\" href=\"/test-sites/e-commerce/allinone/product/490\" title=\"Sony Xperia\">Sony Xperia</a>\n",
       "</h4>\n",
       "<p class=\"description\">GPS, waterproof</p>\n",
       "</div>\n",
       "<div class=\"ratings\">\n",
       "<p class=\"pull-right\">6 reviews</p>\n",
       "<p data-rating=\"1\">\n",
       "<span class=\"glyphicon glyphicon-star\"></span>\n",
       "</p>\n",
       "</div>\n",
       "</div>\n",
       "</div>\n",
       "<div class=\"col-sm-4 col-lg-4 col-md-4\">\n",
       "<div class=\"thumbnail\">\n",
       "<img alt=\"item\" class=\"img-responsive\" src=\"/images/test-sites/e-commerce/items/cart2.png\"/>\n",
       "<div class=\"caption\">\n",
       "<h4 class=\"pull-right price\">$499.99</h4>\n",
       "<h4>\n",
       "<a class=\"title\" href=\"/test-sites/e-commerce/allinone/product/491\" title=\"Ubuntu Edge\">Ubuntu Edge</a>\n",
       "</h4>\n",
       "<p class=\"description\">Sapphire glass</p>\n",
       "</div>\n",
       "<div class=\"ratings\">\n",
       "<p class=\"pull-right\">2 reviews</p>\n",
       "<p data-rating=\"1\">\n",
       "<span class=\"glyphicon glyphicon-star\"></span>\n",
       "</p>\n",
       "</div>\n",
       "</div>\n",
       "</div>\n",
       "<div class=\"col-sm-4 col-lg-4 col-md-4\">\n",
       "<div class=\"thumbnail\">\n",
       "<img alt=\"item\" class=\"img-responsive\" src=\"/images/test-sites/e-commerce/items/cart2.png\"/>\n",
       "<div class=\"caption\">\n",
       "<h4 class=\"pull-right price\">$899.99</h4>\n",
       "<h4>\n",
       "<a class=\"title\" href=\"/test-sites/e-commerce/allinone/product/492\" title=\"Iphone\">Iphone</a>\n",
       "</h4>\n",
       "<p class=\"description\">White</p>\n",
       "</div>\n",
       "<div class=\"ratings\">\n",
       "<p class=\"pull-right\">10 reviews</p>\n",
       "<p data-rating=\"1\">\n",
       "<span class=\"glyphicon glyphicon-star\"></span>\n",
       "</p>\n",
       "</div>\n",
       "</div>\n",
       "</div>\n",
       "<div class=\"col-sm-4 col-lg-4 col-md-4\">\n",
       "<div class=\"thumbnail\">\n",
       "<img alt=\"item\" class=\"img-responsive\" src=\"/images/test-sites/e-commerce/items/cart2.png\"/>\n",
       "<div class=\"caption\">\n",
       "<h4 class=\"pull-right price\">$899.99</h4>\n",
       "<h4>\n",
       "<a class=\"title\" href=\"/test-sites/e-commerce/allinone/product/493\" title=\"Iphone\">Iphone</a>\n",
       "</h4>\n",
       "<p class=\"description\">Silver</p>\n",
       "</div>\n",
       "<div class=\"ratings\">\n",
       "<p class=\"pull-right\">8 reviews</p>\n",
       "<p data-rating=\"2\">\n",
       "<span class=\"glyphicon glyphicon-star\"></span>\n",
       "<span class=\"glyphicon glyphicon-star\"></span>\n",
       "</p>\n",
       "</div>\n",
       "</div>\n",
       "</div>\n",
       "<div class=\"col-sm-4 col-lg-4 col-md-4\">\n",
       "<div class=\"thumbnail\">\n",
       "<img alt=\"item\" class=\"img-responsive\" src=\"/images/test-sites/e-commerce/items/cart2.png\"/>\n",
       "<div class=\"caption\">\n",
       "<h4 class=\"pull-right price\">$899.99</h4>\n",
       "<h4>\n",
       "<a class=\"title\" href=\"/test-sites/e-commerce/allinone/product/494\" title=\"Iphone\">Iphone</a>\n",
       "</h4>\n",
       "<p class=\"description\">Black</p>\n",
       "</div>\n",
       "<div class=\"ratings\">\n",
       "<p class=\"pull-right\">1 reviews</p>\n",
       "<p data-rating=\"1\">\n",
       "<span class=\"glyphicon glyphicon-star\"></span>\n",
       "</p>\n",
       "</div>\n",
       "</div>\n",
       "</div>\n",
       "</div>\n",
       "</div>\n",
       "</div>\n",
       "</div>"
      ]
     },
     "execution_count": 8,
     "metadata": {},
     "output_type": "execute_result"
    }
   ],
   "source": [
    "soup.find('div', {'class' : 'container test-site'})"
   ]
  },
  {
   "cell_type": "code",
   "execution_count": 9,
   "id": "28f2fc7c",
   "metadata": {},
   "outputs": [
    {
     "data": {
      "text/plain": [
       "'$24.99'"
      ]
     },
     "execution_count": 9,
     "metadata": {},
     "output_type": "execute_result"
    }
   ],
   "source": [
    "price = soup.find('h4', {'class' : 'pull-right price'})\n",
    "# price = soup.find('h4', class_='pull-right price')         # same thing but only works for classes\n",
    "price.string                                                 # only gives first price (will use find_all)"
   ]
  },
  {
   "cell_type": "markdown",
   "id": "800c9ee4",
   "metadata": {},
   "source": [
    "# find_all()"
   ]
  },
  {
   "cell_type": "code",
   "execution_count": 10,
   "id": "11b44028",
   "metadata": {},
   "outputs": [
    {
     "name": "stdout",
     "output_type": "stream",
     "text": [
      "$24.99\n",
      "$57.99\n",
      "$93.99\n",
      "$109.99\n",
      "$118.99\n",
      "$499.99\n",
      "$899.99\n",
      "$899.99\n",
      "$899.99\n"
     ]
    }
   ],
   "source": [
    "# prices of all the products\n",
    "price_all = soup.find_all('h4', {'class' : 'pull-right price'})\n",
    "for price in price_all:\n",
    "    print(price.text)"
   ]
  },
  {
   "cell_type": "code",
   "execution_count": 11,
   "id": "047dad1c",
   "metadata": {},
   "outputs": [
    {
     "name": "stdout",
     "output_type": "stream",
     "text": [
      "Nokia 123\n",
      "LG Optimus\n",
      "Samsung Galaxy\n",
      "Nokia X\n",
      "Sony Xperia\n",
      "Ubuntu Edge\n",
      "Iphone\n",
      "Iphone\n",
      "Iphone\n"
     ]
    }
   ],
   "source": [
    "# titles of all the products\n",
    "prod_name = soup.find_all('a', {'class' : 'title'})\n",
    "# prod_name\n",
    "for prod in prod_name:\n",
    "    print(prod.text)"
   ]
  },
  {
   "cell_type": "code",
   "execution_count": 12,
   "id": "cc7e8991",
   "metadata": {},
   "outputs": [
    {
     "name": "stdout",
     "output_type": "stream",
     "text": [
      "11 reviews\n",
      "11 reviews\n",
      "3 reviews\n",
      "4 reviews\n",
      "6 reviews\n",
      "2 reviews\n",
      "10 reviews\n",
      "8 reviews\n",
      "1 reviews\n"
     ]
    }
   ],
   "source": [
    "# reviews of all the products\n",
    "reviews = soup.find_all('p', class_='pull-right')\n",
    "for review in reviews:\n",
    "    print(review.text)"
   ]
  },
  {
   "cell_type": "code",
   "execution_count": 14,
   "id": "dd73d200",
   "metadata": {},
   "outputs": [
    {
     "name": "stdout",
     "output_type": "stream",
     "text": [
      "11 reviews\n",
      "11 reviews\n",
      "3 reviews\n"
     ]
    }
   ],
   "source": [
    "# performing some basic python on find_all()\n",
    "reviews2 = soup.find_all('p', class_='pull-right')[0:3]      # limit to 3\n",
    "for review in reviews2:\n",
    "    print(review.text)"
   ]
  },
  {
   "cell_type": "markdown",
   "id": "0c83db57",
   "metadata": {},
   "source": [
    "### use find_all() with multiple tags"
   ]
  },
  {
   "cell_type": "code",
   "execution_count": 15,
   "id": "481e628c",
   "metadata": {},
   "outputs": [
    {
     "data": {
      "text/plain": [
       "[<a data-target=\".side-collapse\" data-target-2=\".side-collapse-container\" data-toggle=\"collapse-side\">\n",
       " <button aria-controls=\"navbar\" aria-expanded=\"false\" class=\"navbar-toggle pull-right collapsed\" data-target=\"#navbar\" data-target-2=\".side-collapse-container\" data-target-3=\".side-collapse\" data-toggle=\"collapse\" type=\"button\">\n",
       " <span class=\"sr-only\">Toggle navigation</span>\n",
       " <span class=\"icon-bar top-bar\"></span>\n",
       " <span class=\"icon-bar middle-bar\"></span>\n",
       " <span class=\"icon-bar bottom-bar\"></span>\n",
       " </button>\n",
       " </a>,\n",
       " <a href=\"/\"><img alt=\"Web Scraper\" src=\"/img/logo_white.svg\"/></a>,\n",
       " <a href=\"#page-top\"></a>,\n",
       " <a class=\"menuitm\" href=\"/\">\n",
       " <p>Web Scraper</p>\n",
       " <div class=\"crta\"></div>\n",
       " </a>,\n",
       " <p>Web Scraper</p>,\n",
       " <a class=\"menuitm\" href=\"/cloud-scraper\">\n",
       " <p>Cloud Scraper</p>\n",
       " <div class=\"crta\"></div>\n",
       " </a>,\n",
       " <p>Cloud Scraper</p>,\n",
       " <a class=\"menuitm\" href=\"/pricing\">\n",
       " <p>Pricing</p>\n",
       " <div class=\"crta\"></div>\n",
       " </a>,\n",
       " <p>Pricing</p>,\n",
       " <a class=\"menuitm dropdown-toggle\" data-toggle=\"dropdown\" href=\"#section3\">\n",
       " <p>Learn</p>\n",
       " <div class=\"crta\"></div>\n",
       " </a>,\n",
       " <p>Learn</p>,\n",
       " <a href=\"/documentation\">Documentation</a>,\n",
       " <a href=\"/tutorials\">Video Tutorials</a>,\n",
       " <a href=\"/how-to-videos\">How to</a>,\n",
       " <a href=\"/test-sites\">Test Sites</a>,\n",
       " <a href=\"https://forum.webscraper.io/\" rel=\"noopener\" target=\"_blank\">Forum</a>,\n",
       " <a class=\"btn-menu1 install-extension\" href=\"https://chrome.google.com/webstore/detail/web-scraper/jnhgnonknehpejjnehehllkliplmbmhn?hl=en\" rel=\"noopener\" target=\"_blank\">Install</a>,\n",
       " <a class=\"btn-menu2\" href=\"https://cloud.webscraper.io/\">Login</a>,\n",
       " <a href=\"/test-sites/e-commerce/allinone\">Home</a>,\n",
       " <a class=\"category-link\" href=\"/test-sites/e-commerce/allinone/computers\">\n",
       " \t\t\t\t\tComputers\n",
       " \t\t\t\t\t<span class=\"fa arrow\"></span>\n",
       " </a>,\n",
       " <a class=\"category-link\" href=\"/test-sites/e-commerce/allinone/phones\">\n",
       " \t\t\t\t\tPhones\n",
       " \t\t\t\t\t<span class=\"fa arrow\"></span>\n",
       " </a>,\n",
       " <a class=\"subcategory-link active\" href=\"/test-sites/e-commerce/allinone/phones/touch\">\n",
       " \t\t\t\t\t\t\tTouch\n",
       " \t\t\t\t\t\t</a>,\n",
       " <h4 class=\"pull-right price\">$24.99</h4>,\n",
       " <h4>\n",
       " <a class=\"title\" href=\"/test-sites/e-commerce/allinone/product/486\" title=\"Nokia 123\">Nokia 123</a>\n",
       " </h4>,\n",
       " <a class=\"title\" href=\"/test-sites/e-commerce/allinone/product/486\" title=\"Nokia 123\">Nokia 123</a>,\n",
       " <p class=\"description\">7 day battery</p>,\n",
       " <p class=\"pull-right\">11 reviews</p>,\n",
       " <p data-rating=\"3\">\n",
       " <span class=\"glyphicon glyphicon-star\"></span>\n",
       " <span class=\"glyphicon glyphicon-star\"></span>\n",
       " <span class=\"glyphicon glyphicon-star\"></span>\n",
       " </p>,\n",
       " <h4 class=\"pull-right price\">$57.99</h4>,\n",
       " <h4>\n",
       " <a class=\"title\" href=\"/test-sites/e-commerce/allinone/product/487\" title=\"LG Optimus\">LG Optimus</a>\n",
       " </h4>,\n",
       " <a class=\"title\" href=\"/test-sites/e-commerce/allinone/product/487\" title=\"LG Optimus\">LG Optimus</a>,\n",
       " <p class=\"description\">3.2\" screen</p>,\n",
       " <p class=\"pull-right\">11 reviews</p>,\n",
       " <p data-rating=\"3\">\n",
       " <span class=\"glyphicon glyphicon-star\"></span>\n",
       " <span class=\"glyphicon glyphicon-star\"></span>\n",
       " <span class=\"glyphicon glyphicon-star\"></span>\n",
       " </p>,\n",
       " <h4 class=\"pull-right price\">$93.99</h4>,\n",
       " <h4>\n",
       " <a class=\"title\" href=\"/test-sites/e-commerce/allinone/product/488\" title=\"Samsung Galaxy\">Samsung Galaxy</a>\n",
       " </h4>,\n",
       " <a class=\"title\" href=\"/test-sites/e-commerce/allinone/product/488\" title=\"Samsung Galaxy\">Samsung Galaxy</a>,\n",
       " <p class=\"description\">5 mpx. Android 5.0</p>,\n",
       " <p class=\"pull-right\">3 reviews</p>,\n",
       " <p data-rating=\"3\">\n",
       " <span class=\"glyphicon glyphicon-star\"></span>\n",
       " <span class=\"glyphicon glyphicon-star\"></span>\n",
       " <span class=\"glyphicon glyphicon-star\"></span>\n",
       " </p>,\n",
       " <h4 class=\"pull-right price\">$109.99</h4>,\n",
       " <h4>\n",
       " <a class=\"title\" href=\"/test-sites/e-commerce/allinone/product/489\" title=\"Nokia X\">Nokia X</a>\n",
       " </h4>,\n",
       " <a class=\"title\" href=\"/test-sites/e-commerce/allinone/product/489\" title=\"Nokia X\">Nokia X</a>,\n",
       " <p class=\"description\">Andoid, Jolla dualboot</p>,\n",
       " <p class=\"pull-right\">4 reviews</p>,\n",
       " <p data-rating=\"4\">\n",
       " <span class=\"glyphicon glyphicon-star\"></span>\n",
       " <span class=\"glyphicon glyphicon-star\"></span>\n",
       " <span class=\"glyphicon glyphicon-star\"></span>\n",
       " <span class=\"glyphicon glyphicon-star\"></span>\n",
       " </p>,\n",
       " <h4 class=\"pull-right price\">$118.99</h4>,\n",
       " <h4>\n",
       " <a class=\"title\" href=\"/test-sites/e-commerce/allinone/product/490\" title=\"Sony Xperia\">Sony Xperia</a>\n",
       " </h4>,\n",
       " <a class=\"title\" href=\"/test-sites/e-commerce/allinone/product/490\" title=\"Sony Xperia\">Sony Xperia</a>,\n",
       " <p class=\"description\">GPS, waterproof</p>,\n",
       " <p class=\"pull-right\">6 reviews</p>,\n",
       " <p data-rating=\"1\">\n",
       " <span class=\"glyphicon glyphicon-star\"></span>\n",
       " </p>,\n",
       " <h4 class=\"pull-right price\">$499.99</h4>,\n",
       " <h4>\n",
       " <a class=\"title\" href=\"/test-sites/e-commerce/allinone/product/491\" title=\"Ubuntu Edge\">Ubuntu Edge</a>\n",
       " </h4>,\n",
       " <a class=\"title\" href=\"/test-sites/e-commerce/allinone/product/491\" title=\"Ubuntu Edge\">Ubuntu Edge</a>,\n",
       " <p class=\"description\">Sapphire glass</p>,\n",
       " <p class=\"pull-right\">2 reviews</p>,\n",
       " <p data-rating=\"1\">\n",
       " <span class=\"glyphicon glyphicon-star\"></span>\n",
       " </p>,\n",
       " <h4 class=\"pull-right price\">$899.99</h4>,\n",
       " <h4>\n",
       " <a class=\"title\" href=\"/test-sites/e-commerce/allinone/product/492\" title=\"Iphone\">Iphone</a>\n",
       " </h4>,\n",
       " <a class=\"title\" href=\"/test-sites/e-commerce/allinone/product/492\" title=\"Iphone\">Iphone</a>,\n",
       " <p class=\"description\">White</p>,\n",
       " <p class=\"pull-right\">10 reviews</p>,\n",
       " <p data-rating=\"1\">\n",
       " <span class=\"glyphicon glyphicon-star\"></span>\n",
       " </p>,\n",
       " <h4 class=\"pull-right price\">$899.99</h4>,\n",
       " <h4>\n",
       " <a class=\"title\" href=\"/test-sites/e-commerce/allinone/product/493\" title=\"Iphone\">Iphone</a>\n",
       " </h4>,\n",
       " <a class=\"title\" href=\"/test-sites/e-commerce/allinone/product/493\" title=\"Iphone\">Iphone</a>,\n",
       " <p class=\"description\">Silver</p>,\n",
       " <p class=\"pull-right\">8 reviews</p>,\n",
       " <p data-rating=\"2\">\n",
       " <span class=\"glyphicon glyphicon-star\"></span>\n",
       " <span class=\"glyphicon glyphicon-star\"></span>\n",
       " </p>,\n",
       " <h4 class=\"pull-right price\">$899.99</h4>,\n",
       " <h4>\n",
       " <a class=\"title\" href=\"/test-sites/e-commerce/allinone/product/494\" title=\"Iphone\">Iphone</a>\n",
       " </h4>,\n",
       " <a class=\"title\" href=\"/test-sites/e-commerce/allinone/product/494\" title=\"Iphone\">Iphone</a>,\n",
       " <p class=\"description\">Black</p>,\n",
       " <p class=\"pull-right\">1 reviews</p>,\n",
       " <p data-rating=\"1\">\n",
       " <span class=\"glyphicon glyphicon-star\"></span>\n",
       " </p>,\n",
       " <p>Products</p>,\n",
       " <a href=\"/\">Web Scraper browser extension</a>,\n",
       " <a href=\"/pricing\">Web Scraper Cloud</a>,\n",
       " <p>Company</p>,\n",
       " <a href=\"/contact\">Contact</a>,\n",
       " <a href=\"/privacy-policy\">Website Privacy Policy</a>,\n",
       " <a href=\"/extension-privacy-policy\">Browser Extension Privacy Policy</a>,\n",
       " <a href=\"http://webscraperio.us-east-1.elasticbeanstalk.com/downloads/Web_Scraper_Media_Kit.zip\">Media kit</a>,\n",
       " <a href=\"/jobs\">Jobs</a>,\n",
       " <p>Resources</p>,\n",
       " <a href=\"/blog\">Blog</a>,\n",
       " <a href=\"/documentation\">Documentation</a>,\n",
       " <a href=\"/tutorials\">Video Tutorials</a>,\n",
       " <a href=\"/screenshots\">Screenshots</a>,\n",
       " <a href=\"/test-sites\">Test Sites</a>,\n",
       " <a href=\"https://forum.webscraper.io/\" rel=\"noopener\" target=\"_blank\">Forum</a>,\n",
       " <p>CONTACT US</p>,\n",
       " <a href=\"mailto:info@webscraper.io\">info@webscraper.io</a>,\n",
       " <a href=\"https://www.facebook.com/webscraperio/\" rel=\"noopener\" target=\"_blank\"><img alt=\"Web Scraper on Facebook\" src=\"/img/fbicon.png\"/></a>,\n",
       " <a href=\"https://twitter.com/webscraperio\" rel=\"noopener\" target=\"_blank\"><img alt=\"Web Scraper on Twitter\" src=\"/img/twicon.png\"/></a>,\n",
       " <p class=\"copyright\">Copyright © 2022\n",
       " \t\t\t\t\t<a href=\"#\">Web Scraper</a> | All rights\n",
       " \t\t\t\t\treserved | Made by zoom59</p>,\n",
       " <a href=\"#\">Web Scraper</a>]"
      ]
     },
     "execution_count": 15,
     "metadata": {},
     "output_type": "execute_result"
    }
   ],
   "source": [
    "soup.find_all(['h4', 'p', 'a'])"
   ]
  },
  {
   "cell_type": "markdown",
   "id": "85608f45",
   "metadata": {},
   "source": [
    "### use find_all() with multiple strings"
   ]
  },
  {
   "cell_type": "code",
   "execution_count": 16,
   "id": "ea328894",
   "metadata": {},
   "outputs": [
    {
     "data": {
      "text/plain": [
       "['Nokia 123', 'Iphone', 'Iphone', 'Iphone']"
      ]
     },
     "execution_count": 16,
     "metadata": {},
     "output_type": "execute_result"
    }
   ],
   "source": [
    "soup.find_all(string = ['Iphone', 'Nokia 123'])"
   ]
  },
  {
   "cell_type": "markdown",
   "id": "3a137dff",
   "metadata": {},
   "source": [
    "### use find_all() with ids"
   ]
  },
  {
   "cell_type": "code",
   "execution_count": 17,
   "id": "ee37bd15",
   "metadata": {},
   "outputs": [
    {
     "data": {
      "text/plain": [
       "[<nav class=\"navbar-collapse collapse\" id=\"navbar\" role=\"navigation\">\n",
       " <ul class=\"nav navbar-nav navbar-right\">\n",
       " <li class=\"hidden\">\n",
       " <a href=\"#page-top\"></a>\n",
       " </li>\n",
       " <li>\n",
       " <a class=\"menuitm\" href=\"/\">\n",
       " <p>Web Scraper</p>\n",
       " <div class=\"crta\"></div>\n",
       " </a>\n",
       " </li>\n",
       " <li>\n",
       " <a class=\"menuitm\" href=\"/cloud-scraper\">\n",
       " <p>Cloud Scraper</p>\n",
       " <div class=\"crta\"></div>\n",
       " </a>\n",
       " </li>\n",
       " <li>\n",
       " <a class=\"menuitm\" href=\"/pricing\">\n",
       " <p>Pricing</p>\n",
       " <div class=\"crta\"></div>\n",
       " </a>\n",
       " </li>\n",
       " <li class=\"dropdown\">\n",
       " <a class=\"menuitm dropdown-toggle\" data-toggle=\"dropdown\" href=\"#section3\">\n",
       " <p>Learn</p>\n",
       " <div class=\"crta\"></div>\n",
       " </a>\n",
       " <ul class=\"dropdown-menu\">\n",
       " <li>\n",
       " <a href=\"/documentation\">Documentation</a>\n",
       " </li>\n",
       " <li>\n",
       " <a href=\"/tutorials\">Video Tutorials</a>\n",
       " </li>\n",
       " <li>\n",
       " <a href=\"/how-to-videos\">How to</a>\n",
       " </li>\n",
       " <li>\n",
       " <a href=\"/test-sites\">Test Sites</a>\n",
       " </li>\n",
       " <li>\n",
       " <a href=\"https://forum.webscraper.io/\" rel=\"noopener\" target=\"_blank\">Forum</a>\n",
       " </li>\n",
       " </ul>\n",
       " </li>\n",
       " <li>\n",
       " <a class=\"btn-menu1 install-extension\" href=\"https://chrome.google.com/webstore/detail/web-scraper/jnhgnonknehpejjnehehllkliplmbmhn?hl=en\" rel=\"noopener\" target=\"_blank\">Install</a>\n",
       " </li>\n",
       " <li>\n",
       " <a class=\"btn-menu2\" href=\"https://cloud.webscraper.io/\">Login</a>\n",
       " </li>\n",
       " </ul>\n",
       " </nav>,\n",
       " <ul class=\"nav\" id=\"side-menu\">\n",
       " <li>\n",
       " <a href=\"/test-sites/e-commerce/allinone\">Home</a>\n",
       " </li>\n",
       " <li>\n",
       " <a class=\"category-link\" href=\"/test-sites/e-commerce/allinone/computers\">\n",
       " \t\t\t\t\tComputers\n",
       " \t\t\t\t\t<span class=\"fa arrow\"></span>\n",
       " </a>\n",
       " </li>\n",
       " <li class=\"active\">\n",
       " <a class=\"category-link\" href=\"/test-sites/e-commerce/allinone/phones\">\n",
       " \t\t\t\t\tPhones\n",
       " \t\t\t\t\t<span class=\"fa arrow\"></span>\n",
       " </a>\n",
       " <ul class=\"nav nav-second-level collapse in\">\n",
       " <li>\n",
       " <a class=\"subcategory-link active\" href=\"/test-sites/e-commerce/allinone/phones/touch\">\n",
       " \t\t\t\t\t\t\tTouch\n",
       " \t\t\t\t\t\t</a>\n",
       " </li>\n",
       " </ul>\n",
       " </li>\n",
       " </ul>,\n",
       " <div class=\"container-fluid footer\" id=\"layout-footer\">\n",
       " <div class=\"container\">\n",
       " <div class=\"row\">\n",
       " <div class=\"col-md-3\">\n",
       " <ul>\n",
       " <li><p>Products</p></li>\n",
       " <li>\n",
       " <a href=\"/\">Web Scraper browser extension</a>\n",
       " </li>\n",
       " <li>\n",
       " <a href=\"/pricing\">Web Scraper Cloud</a>\n",
       " </li>\n",
       " </ul>\n",
       " </div>\n",
       " <div class=\"col-md-3\">\n",
       " <ul>\n",
       " <li><p>Company</p></li>\n",
       " <li><a href=\"/contact\">Contact</a>\n",
       " </li>\n",
       " <li>\n",
       " <a href=\"/privacy-policy\">Website Privacy Policy</a>\n",
       " </li>\n",
       " <li>\n",
       " <a href=\"/extension-privacy-policy\">Browser Extension Privacy Policy</a>\n",
       " </li>\n",
       " <li>\n",
       " <a href=\"http://webscraperio.us-east-1.elasticbeanstalk.com/downloads/Web_Scraper_Media_Kit.zip\">Media kit</a>\n",
       " </li>\n",
       " <li><a href=\"/jobs\">Jobs</a></li>\n",
       " </ul>\n",
       " </div>\n",
       " <div class=\"col-md-3\">\n",
       " <ul>\n",
       " <li><p>Resources</p></li>\n",
       " <li><a href=\"/blog\">Blog</a></li>\n",
       " <li>\n",
       " <a href=\"/documentation\">Documentation</a>\n",
       " </li>\n",
       " <li>\n",
       " <a href=\"/tutorials\">Video Tutorials</a>\n",
       " </li>\n",
       " <li>\n",
       " <a href=\"/screenshots\">Screenshots</a>\n",
       " </li>\n",
       " <li>\n",
       " <a href=\"/test-sites\">Test Sites</a>\n",
       " </li>\n",
       " <li>\n",
       " <a href=\"https://forum.webscraper.io/\" rel=\"noopener\" target=\"_blank\">Forum</a>\n",
       " </li>\n",
       " </ul>\n",
       " </div>\n",
       " <div class=\"col-md-3\">\n",
       " <ul>\n",
       " <li><p>CONTACT US</p></li>\n",
       " <li>\n",
       " <a href=\"mailto:info@webscraper.io\">info@webscraper.io</a>\n",
       " </li>\n",
       " <li>Rupniecibas iela 30,<br/> Riga, Latvia, LV-1045</li>\n",
       " </ul>\n",
       " <ul class=\"smedia\">\n",
       " <li>\n",
       " <a href=\"https://www.facebook.com/webscraperio/\" rel=\"noopener\" target=\"_blank\"><img alt=\"Web Scraper on Facebook\" src=\"/img/fbicon.png\"/></a>\n",
       " </li>\n",
       " <li>\n",
       " <a href=\"https://twitter.com/webscraperio\" rel=\"noopener\" target=\"_blank\"><img alt=\"Web Scraper on Twitter\" src=\"/img/twicon.png\"/></a>\n",
       " </li>\n",
       " </ul>\n",
       " </div>\n",
       " </div>\n",
       " <div class=\"row\">\n",
       " <div class=\"col-md-12\">\n",
       " <p class=\"copyright\">Copyright © 2022\n",
       " \t\t\t\t\t<a href=\"#\">Web Scraper</a> | All rights\n",
       " \t\t\t\t\treserved | Made by zoom59</p>\n",
       " </div>\n",
       " </div>\n",
       " </div>\n",
       " </div>]"
      ]
     },
     "execution_count": 17,
     "metadata": {},
     "output_type": "execute_result"
    }
   ],
   "source": [
    "soup.find_all(id=True)"
   ]
  },
  {
   "cell_type": "markdown",
   "id": "265688d4",
   "metadata": {},
   "source": [
    "### use find_all() with strings"
   ]
  },
  {
   "cell_type": "code",
   "execution_count": 18,
   "id": "a9e1787b",
   "metadata": {},
   "outputs": [
    {
     "data": {
      "text/plain": [
       "['Iphone', 'Iphone', 'Iphone']"
      ]
     },
     "execution_count": 18,
     "metadata": {},
     "output_type": "execute_result"
    }
   ],
   "source": [
    "soup.find_all(string='Iphone')"
   ]
  },
  {
   "cell_type": "markdown",
   "id": "aa50cc00",
   "metadata": {},
   "source": [
    "### use find_all() with er.compile  -- just like 'like' operator in SQL"
   ]
  },
  {
   "cell_type": "code",
   "execution_count": 19,
   "id": "1364a740",
   "metadata": {},
   "outputs": [
    {
     "data": {
      "text/plain": [
       "['Nokia 123', 'Nokia X']"
      ]
     },
     "execution_count": 19,
     "metadata": {},
     "output_type": "execute_result"
    }
   ],
   "source": [
    "import re\n",
    "# soup.find_all(string=re.compile('Iph'))\n",
    "soup.find_all(string=re.compile('Nok'))"
   ]
  },
  {
   "cell_type": "markdown",
   "id": "9afcccfb",
   "metadata": {},
   "source": [
    "### re.compile() with attrs"
   ]
  },
  {
   "cell_type": "code",
   "execution_count": 20,
   "id": "daa3224a",
   "metadata": {},
   "outputs": [
    {
     "data": {
      "text/plain": [
       "[<button aria-controls=\"navbar\" aria-expanded=\"false\" class=\"navbar-toggle pull-right collapsed\" data-target=\"#navbar\" data-target-2=\".side-collapse-container\" data-target-3=\".side-collapse\" data-toggle=\"collapse\" type=\"button\">\n",
       " <span class=\"sr-only\">Toggle navigation</span>\n",
       " <span class=\"icon-bar top-bar\"></span>\n",
       " <span class=\"icon-bar middle-bar\"></span>\n",
       " <span class=\"icon-bar bottom-bar\"></span>\n",
       " </button>,\n",
       " <h4 class=\"pull-right price\">$24.99</h4>,\n",
       " <p class=\"pull-right\">11 reviews</p>,\n",
       " <h4 class=\"pull-right price\">$57.99</h4>,\n",
       " <p class=\"pull-right\">11 reviews</p>,\n",
       " <h4 class=\"pull-right price\">$93.99</h4>,\n",
       " <p class=\"pull-right\">3 reviews</p>,\n",
       " <h4 class=\"pull-right price\">$109.99</h4>,\n",
       " <p class=\"pull-right\">4 reviews</p>,\n",
       " <h4 class=\"pull-right price\">$118.99</h4>,\n",
       " <p class=\"pull-right\">6 reviews</p>,\n",
       " <h4 class=\"pull-right price\">$499.99</h4>,\n",
       " <p class=\"pull-right\">2 reviews</p>,\n",
       " <h4 class=\"pull-right price\">$899.99</h4>,\n",
       " <p class=\"pull-right\">10 reviews</p>,\n",
       " <h4 class=\"pull-right price\">$899.99</h4>,\n",
       " <p class=\"pull-right\">8 reviews</p>,\n",
       " <h4 class=\"pull-right price\">$899.99</h4>,\n",
       " <p class=\"pull-right\">1 reviews</p>]"
      ]
     },
     "execution_count": 20,
     "metadata": {},
     "output_type": "execute_result"
    }
   ],
   "source": [
    "soup.find_all(class_=re.compile('pull'))"
   ]
  },
  {
   "cell_type": "markdown",
   "id": "7f209ff6",
   "metadata": {},
   "source": [
    "### re.compile() with specific tags"
   ]
  },
  {
   "cell_type": "code",
   "execution_count": 21,
   "id": "3e3c3ddc",
   "metadata": {},
   "outputs": [
    {
     "data": {
      "text/plain": [
       "[<p class=\"pull-right\">11 reviews</p>,\n",
       " <p class=\"pull-right\">11 reviews</p>,\n",
       " <p class=\"pull-right\">3 reviews</p>,\n",
       " <p class=\"pull-right\">4 reviews</p>,\n",
       " <p class=\"pull-right\">6 reviews</p>,\n",
       " <p class=\"pull-right\">2 reviews</p>,\n",
       " <p class=\"pull-right\">10 reviews</p>,\n",
       " <p class=\"pull-right\">8 reviews</p>,\n",
       " <p class=\"pull-right\">1 reviews</p>]"
      ]
     },
     "execution_count": 21,
     "metadata": {},
     "output_type": "execute_result"
    }
   ],
   "source": [
    "soup.find_all('p', class_=re.compile('pull'))"
   ]
  },
  {
   "cell_type": "markdown",
   "id": "ef568f5f",
   "metadata": {},
   "source": [
    "### limit the find_all() results"
   ]
  },
  {
   "cell_type": "code",
   "execution_count": 22,
   "id": "fe3651f9",
   "metadata": {},
   "outputs": [
    {
     "data": {
      "text/plain": [
       "[<p class=\"pull-right\">11 reviews</p>,\n",
       " <p class=\"pull-right\">11 reviews</p>,\n",
       " <p class=\"pull-right\">3 reviews</p>,\n",
       " <p class=\"pull-right\">4 reviews</p>]"
      ]
     },
     "execution_count": 22,
     "metadata": {},
     "output_type": "execute_result"
    }
   ],
   "source": [
    "soup.find_all('p', class_=re.compile('pull'), limit=4)"
   ]
  },
  {
   "cell_type": "markdown",
   "id": "0d2bbf5a",
   "metadata": {},
   "source": [
    "---\n",
    "# Scrape product_name, price, reviews, desc in a table"
   ]
  },
  {
   "cell_type": "code",
   "execution_count": 23,
   "id": "f8f1ee2e",
   "metadata": {},
   "outputs": [
    {
     "data": {
      "text/plain": [
       "[<a class=\"title\" href=\"/test-sites/e-commerce/allinone/product/486\" title=\"Nokia 123\">Nokia 123</a>,\n",
       " <a class=\"title\" href=\"/test-sites/e-commerce/allinone/product/487\" title=\"LG Optimus\">LG Optimus</a>,\n",
       " <a class=\"title\" href=\"/test-sites/e-commerce/allinone/product/488\" title=\"Samsung Galaxy\">Samsung Galaxy</a>,\n",
       " <a class=\"title\" href=\"/test-sites/e-commerce/allinone/product/489\" title=\"Nokia X\">Nokia X</a>,\n",
       " <a class=\"title\" href=\"/test-sites/e-commerce/allinone/product/490\" title=\"Sony Xperia\">Sony Xperia</a>,\n",
       " <a class=\"title\" href=\"/test-sites/e-commerce/allinone/product/491\" title=\"Ubuntu Edge\">Ubuntu Edge</a>,\n",
       " <a class=\"title\" href=\"/test-sites/e-commerce/allinone/product/492\" title=\"Iphone\">Iphone</a>,\n",
       " <a class=\"title\" href=\"/test-sites/e-commerce/allinone/product/493\" title=\"Iphone\">Iphone</a>,\n",
       " <a class=\"title\" href=\"/test-sites/e-commerce/allinone/product/494\" title=\"Iphone\">Iphone</a>]"
      ]
     },
     "execution_count": 23,
     "metadata": {},
     "output_type": "execute_result"
    }
   ],
   "source": [
    "product_name = soup.find_all('a', class_='title')\n",
    "product_name"
   ]
  },
  {
   "cell_type": "code",
   "execution_count": 24,
   "id": "a5eb571c",
   "metadata": {},
   "outputs": [
    {
     "data": {
      "text/plain": [
       "[<h4 class=\"pull-right price\">$24.99</h4>,\n",
       " <h4 class=\"pull-right price\">$57.99</h4>,\n",
       " <h4 class=\"pull-right price\">$93.99</h4>,\n",
       " <h4 class=\"pull-right price\">$109.99</h4>,\n",
       " <h4 class=\"pull-right price\">$118.99</h4>,\n",
       " <h4 class=\"pull-right price\">$499.99</h4>,\n",
       " <h4 class=\"pull-right price\">$899.99</h4>,\n",
       " <h4 class=\"pull-right price\">$899.99</h4>,\n",
       " <h4 class=\"pull-right price\">$899.99</h4>]"
      ]
     },
     "execution_count": 24,
     "metadata": {},
     "output_type": "execute_result"
    }
   ],
   "source": [
    "price = soup.find_all('h4', class_='pull-right price')\n",
    "price"
   ]
  },
  {
   "cell_type": "code",
   "execution_count": 25,
   "id": "bf9fd4de",
   "metadata": {},
   "outputs": [
    {
     "data": {
      "text/plain": [
       "[<p class=\"pull-right\">11 reviews</p>,\n",
       " <p class=\"pull-right\">11 reviews</p>,\n",
       " <p class=\"pull-right\">3 reviews</p>,\n",
       " <p class=\"pull-right\">4 reviews</p>,\n",
       " <p class=\"pull-right\">6 reviews</p>,\n",
       " <p class=\"pull-right\">2 reviews</p>,\n",
       " <p class=\"pull-right\">10 reviews</p>,\n",
       " <p class=\"pull-right\">8 reviews</p>,\n",
       " <p class=\"pull-right\">1 reviews</p>]"
      ]
     },
     "execution_count": 25,
     "metadata": {},
     "output_type": "execute_result"
    }
   ],
   "source": [
    "reviews = soup.find_all('p', class_='pull-right')\n",
    "reviews"
   ]
  },
  {
   "cell_type": "code",
   "execution_count": 26,
   "id": "0995b47a",
   "metadata": {},
   "outputs": [
    {
     "data": {
      "text/plain": [
       "[<p class=\"description\">7 day battery</p>,\n",
       " <p class=\"description\">3.2\" screen</p>,\n",
       " <p class=\"description\">5 mpx. Android 5.0</p>,\n",
       " <p class=\"description\">Andoid, Jolla dualboot</p>,\n",
       " <p class=\"description\">GPS, waterproof</p>,\n",
       " <p class=\"description\">Sapphire glass</p>,\n",
       " <p class=\"description\">White</p>,\n",
       " <p class=\"description\">Silver</p>,\n",
       " <p class=\"description\">Black</p>]"
      ]
     },
     "execution_count": 26,
     "metadata": {},
     "output_type": "execute_result"
    }
   ],
   "source": [
    "desc = soup.find_all('p', class_='description')\n",
    "desc"
   ]
  },
  {
   "cell_type": "markdown",
   "id": "d33739e6",
   "metadata": {},
   "source": [
    "## take only text from all above"
   ]
  },
  {
   "cell_type": "code",
   "execution_count": 27,
   "id": "9a806d84",
   "metadata": {},
   "outputs": [],
   "source": [
    "product_name_list = []\n",
    "for i in product_name:\n",
    "    product_name2 = i.text\n",
    "    product_name_list.append(product_name2)"
   ]
  },
  {
   "cell_type": "code",
   "execution_count": 28,
   "id": "412da0de",
   "metadata": {},
   "outputs": [],
   "source": [
    "price_list = []\n",
    "for i in price:\n",
    "    price2 = i.text\n",
    "    price_list.append(price2)"
   ]
  },
  {
   "cell_type": "code",
   "execution_count": 29,
   "id": "ec56ded7",
   "metadata": {},
   "outputs": [],
   "source": [
    "reviews_list = []\n",
    "for i in reviews:\n",
    "    reviews2 = i.text\n",
    "    reviews_list.append(reviews2)"
   ]
  },
  {
   "cell_type": "code",
   "execution_count": 30,
   "id": "c766e26e",
   "metadata": {},
   "outputs": [],
   "source": [
    "desc_list = []\n",
    "for i in desc:\n",
    "    desc2 = i.text\n",
    "    desc_list.append(desc2)"
   ]
  },
  {
   "cell_type": "markdown",
   "id": "8412d1ec",
   "metadata": {},
   "source": [
    "## Put these all in DataFrame"
   ]
  },
  {
   "cell_type": "code",
   "execution_count": 31,
   "id": "6c45d58e",
   "metadata": {},
   "outputs": [],
   "source": [
    "import pandas as pd\n",
    "table = pd.DataFrame({'Product Name' : product_name_list,\n",
    "                     'Description' : desc_list,\n",
    "                     'Price' : price_list,\n",
    "                     'Reviews' : reviews_list})"
   ]
  },
  {
   "cell_type": "code",
   "execution_count": 32,
   "id": "f0b3b046",
   "metadata": {},
   "outputs": [
    {
     "data": {
      "text/html": [
       "<div>\n",
       "<style scoped>\n",
       "    .dataframe tbody tr th:only-of-type {\n",
       "        vertical-align: middle;\n",
       "    }\n",
       "\n",
       "    .dataframe tbody tr th {\n",
       "        vertical-align: top;\n",
       "    }\n",
       "\n",
       "    .dataframe thead th {\n",
       "        text-align: right;\n",
       "    }\n",
       "</style>\n",
       "<table border=\"1\" class=\"dataframe\">\n",
       "  <thead>\n",
       "    <tr style=\"text-align: right;\">\n",
       "      <th></th>\n",
       "      <th>Product Name</th>\n",
       "      <th>Description</th>\n",
       "      <th>Price</th>\n",
       "      <th>Reviews</th>\n",
       "    </tr>\n",
       "  </thead>\n",
       "  <tbody>\n",
       "    <tr>\n",
       "      <th>0</th>\n",
       "      <td>Nokia 123</td>\n",
       "      <td>7 day battery</td>\n",
       "      <td>$24.99</td>\n",
       "      <td>11 reviews</td>\n",
       "    </tr>\n",
       "    <tr>\n",
       "      <th>1</th>\n",
       "      <td>LG Optimus</td>\n",
       "      <td>3.2\" screen</td>\n",
       "      <td>$57.99</td>\n",
       "      <td>11 reviews</td>\n",
       "    </tr>\n",
       "    <tr>\n",
       "      <th>2</th>\n",
       "      <td>Samsung Galaxy</td>\n",
       "      <td>5 mpx. Android 5.0</td>\n",
       "      <td>$93.99</td>\n",
       "      <td>3 reviews</td>\n",
       "    </tr>\n",
       "    <tr>\n",
       "      <th>3</th>\n",
       "      <td>Nokia X</td>\n",
       "      <td>Andoid, Jolla dualboot</td>\n",
       "      <td>$109.99</td>\n",
       "      <td>4 reviews</td>\n",
       "    </tr>\n",
       "    <tr>\n",
       "      <th>4</th>\n",
       "      <td>Sony Xperia</td>\n",
       "      <td>GPS, waterproof</td>\n",
       "      <td>$118.99</td>\n",
       "      <td>6 reviews</td>\n",
       "    </tr>\n",
       "  </tbody>\n",
       "</table>\n",
       "</div>"
      ],
      "text/plain": [
       "     Product Name             Description    Price     Reviews\n",
       "0       Nokia 123           7 day battery   $24.99  11 reviews\n",
       "1      LG Optimus             3.2\" screen   $57.99  11 reviews\n",
       "2  Samsung Galaxy      5 mpx. Android 5.0   $93.99   3 reviews\n",
       "3         Nokia X  Andoid, Jolla dualboot  $109.99   4 reviews\n",
       "4     Sony Xperia         GPS, waterproof  $118.99   6 reviews"
      ]
     },
     "execution_count": 32,
     "metadata": {},
     "output_type": "execute_result"
    }
   ],
   "source": [
    "table.head()"
   ]
  },
  {
   "cell_type": "markdown",
   "id": "e0a08825",
   "metadata": {},
   "source": [
    "## Extracted Data from nested HTML tags"
   ]
  },
  {
   "cell_type": "code",
   "execution_count": 33,
   "id": "f25eb6ec",
   "metadata": {},
   "outputs": [
    {
     "data": {
      "text/plain": [
       "<div class=\"col-sm-4 col-lg-4 col-md-4\">\n",
       "<div class=\"thumbnail\">\n",
       "<img alt=\"item\" class=\"img-responsive\" src=\"/images/test-sites/e-commerce/items/cart2.png\"/>\n",
       "<div class=\"caption\">\n",
       "<h4 class=\"pull-right price\">$93.99</h4>\n",
       "<h4>\n",
       "<a class=\"title\" href=\"/test-sites/e-commerce/allinone/product/488\" title=\"Samsung Galaxy\">Samsung Galaxy</a>\n",
       "</h4>\n",
       "<p class=\"description\">5 mpx. Android 5.0</p>\n",
       "</div>\n",
       "<div class=\"ratings\">\n",
       "<p class=\"pull-right\">3 reviews</p>\n",
       "<p data-rating=\"3\">\n",
       "<span class=\"glyphicon glyphicon-star\"></span>\n",
       "<span class=\"glyphicon glyphicon-star\"></span>\n",
       "<span class=\"glyphicon glyphicon-star\"></span>\n",
       "</p>\n",
       "</div>\n",
       "</div>\n",
       "</div>"
      ]
     },
     "execution_count": 33,
     "metadata": {},
     "output_type": "execute_result"
    }
   ],
   "source": [
    "boxes = soup.find_all('div', class_='col-sm-4 col-lg-4 col-md-4')[2]\n",
    "boxes"
   ]
  },
  {
   "cell_type": "code",
   "execution_count": 34,
   "id": "6a7cc9e1",
   "metadata": {},
   "outputs": [
    {
     "data": {
      "text/plain": [
       "'Samsung Galaxy'"
      ]
     },
     "execution_count": 34,
     "metadata": {},
     "output_type": "execute_result"
    }
   ],
   "source": [
    "boxes.find('a').text"
   ]
  },
  {
   "cell_type": "code",
   "execution_count": 35,
   "id": "934c061a",
   "metadata": {},
   "outputs": [
    {
     "data": {
      "text/plain": [
       "'5 mpx. Android 5.0'"
      ]
     },
     "execution_count": 35,
     "metadata": {},
     "output_type": "execute_result"
    }
   ],
   "source": [
    "boxes.find('p', class_='description').text"
   ]
  },
  {
   "cell_type": "code",
   "execution_count": 37,
   "id": "ccfcc010",
   "metadata": {},
   "outputs": [
    {
     "data": {
      "text/plain": [
       "'Computers'"
      ]
     },
     "execution_count": 37,
     "metadata": {},
     "output_type": "execute_result"
    }
   ],
   "source": [
    "box2 = soup.find_all('ul', class_='nav', id='side-menu')[0]\n",
    "box2.find_all('li')[1].text.strip()"
   ]
  }
 ],
 "metadata": {
  "kernelspec": {
   "display_name": "Python 3.11.0 64-bit",
   "language": "python",
   "name": "python3"
  },
  "language_info": {
   "codemirror_mode": {
    "name": "ipython",
    "version": 3
   },
   "file_extension": ".py",
   "mimetype": "text/x-python",
   "name": "python",
   "nbconvert_exporter": "python",
   "pygments_lexer": "ipython3",
   "version": "3.11.0"
  },
  "vscode": {
   "interpreter": {
    "hash": "418130ca483e386e143512f23ae96779bdad47ad4e6a59ff8b72600d5f974771"
   }
  }
 },
 "nbformat": 4,
 "nbformat_minor": 5
}
