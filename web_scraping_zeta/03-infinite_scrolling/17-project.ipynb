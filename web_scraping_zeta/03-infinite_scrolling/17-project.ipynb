{
 "cells": [
  {
   "cell_type": "markdown",
   "metadata": {},
   "source": [
    "## **Exercise: Scraping 'Union Los Angeles' Wesbite**\n",
    "#### You have to scrape according to the following steps:\n",
    "1- Starting page is Union Los Angeles Outerwear section\\\n",
    "2- Use self scrolling to get past the infinite scrolling on the web page and to load in every product\\\n",
    "3- Scrape the link, name, price, and who is it made by for every product\\\n",
    "4- Put all the data in to an easy to read table and find the most expensive product"
   ]
  },
  {
   "cell_type": "code",
   "execution_count": 2,
   "metadata": {},
   "outputs": [],
   "source": [
    "from selenium import webdriver\n",
    "from selenium.webdriver.common.by import By\n",
    "from bs4 import BeautifulSoup\n",
    "import time\n",
    "import pandas as pd "
   ]
  },
  {
   "cell_type": "code",
   "execution_count": 3,
   "metadata": {},
   "outputs": [
    {
     "name": "stderr",
     "output_type": "stream",
     "text": [
      "C:\\Users\\Hammad\\AppData\\Local\\Temp\\ipykernel_4776\\1720321515.py:1: DeprecationWarning: executable_path has been deprecated, please pass in a Service object\n",
      "  driver = webdriver.Chrome('C:/Users/Hammad/Downloads/Compressed/chromedriver.exe')\n"
     ]
    }
   ],
   "source": [
    "driver = webdriver.Chrome('C:/Users/Hammad/Downloads/Compressed/chromedriver.exe')\n",
    "driver.get('https://www.nike.com/w/mens-jackets-vests-50r7yznik1')\n",
    "# driver.maximize_window()"
   ]
  },
  {
   "cell_type": "code",
   "execution_count": 4,
   "metadata": {},
   "outputs": [],
   "source": [
    "last_height = driver.execute_script('return document.body.scrollHeight')\n",
    "while True:\n",
    "    driver.execute_script('window.scrollTo(0,document.body.scrollHeight)')\n",
    "    time.sleep(3)\n",
    "    new_height = driver.execute_script('return document.body.scrollHeight')\n",
    "    if new_height == last_height:\n",
    "        break\n",
    "    last_height = new_height"
   ]
  },
  {
   "cell_type": "code",
   "execution_count": 5,
   "metadata": {},
   "outputs": [],
   "source": [
    "html_content = driver.execute_script('return document.body.innerHTML')"
   ]
  },
  {
   "cell_type": "code",
   "execution_count": 7,
   "metadata": {},
   "outputs": [],
   "source": [
    "soup = BeautifulSoup(html_content, 'html.parser')"
   ]
  },
  {
   "cell_type": "code",
   "execution_count": 8,
   "metadata": {},
   "outputs": [],
   "source": [
    "df = pd.DataFrame({'Link':[''], 'Title':[''], 'Subtitle':[''], 'Price':[''] })"
   ]
  },
  {
   "cell_type": "code",
   "execution_count": 9,
   "metadata": {},
   "outputs": [],
   "source": [
    "section = soup.find('div', {'class': 'product-grid__items css-hvew4t'})"
   ]
  },
  {
   "cell_type": "code",
   "execution_count": 10,
   "metadata": {},
   "outputs": [
    {
     "data": {
      "text/plain": [
       "177"
      ]
     },
     "execution_count": 10,
     "metadata": {},
     "output_type": "execute_result"
    }
   ],
   "source": [
    "postings = section.find_all('div', {'class':'product-card__body'})\n",
    "len(postings)"
   ]
  },
  {
   "cell_type": "code",
   "execution_count": 11,
   "metadata": {},
   "outputs": [
    {
     "name": "stderr",
     "output_type": "stream",
     "text": [
      "C:\\Users\\Hammad\\AppData\\Local\\Temp\\ipykernel_4776\\591633955.py:7: FutureWarning: The frame.append method is deprecated and will be removed from pandas in a future version. Use pandas.concat instead.\n",
      "  df = df.append({'Link':link, 'Title':title, 'Subtitle':subtitle, 'Price':price },\n",
      "C:\\Users\\Hammad\\AppData\\Local\\Temp\\ipykernel_4776\\591633955.py:7: FutureWarning: The frame.append method is deprecated and will be removed from pandas in a future version. Use pandas.concat instead.\n",
      "  df = df.append({'Link':link, 'Title':title, 'Subtitle':subtitle, 'Price':price },\n",
      "C:\\Users\\Hammad\\AppData\\Local\\Temp\\ipykernel_4776\\591633955.py:7: FutureWarning: The frame.append method is deprecated and will be removed from pandas in a future version. Use pandas.concat instead.\n",
      "  df = df.append({'Link':link, 'Title':title, 'Subtitle':subtitle, 'Price':price },\n",
      "C:\\Users\\Hammad\\AppData\\Local\\Temp\\ipykernel_4776\\591633955.py:7: FutureWarning: The frame.append method is deprecated and will be removed from pandas in a future version. Use pandas.concat instead.\n",
      "  df = df.append({'Link':link, 'Title':title, 'Subtitle':subtitle, 'Price':price },\n",
      "C:\\Users\\Hammad\\AppData\\Local\\Temp\\ipykernel_4776\\591633955.py:7: FutureWarning: The frame.append method is deprecated and will be removed from pandas in a future version. Use pandas.concat instead.\n",
      "  df = df.append({'Link':link, 'Title':title, 'Subtitle':subtitle, 'Price':price },\n",
      "C:\\Users\\Hammad\\AppData\\Local\\Temp\\ipykernel_4776\\591633955.py:7: FutureWarning: The frame.append method is deprecated and will be removed from pandas in a future version. Use pandas.concat instead.\n",
      "  df = df.append({'Link':link, 'Title':title, 'Subtitle':subtitle, 'Price':price },\n",
      "C:\\Users\\Hammad\\AppData\\Local\\Temp\\ipykernel_4776\\591633955.py:7: FutureWarning: The frame.append method is deprecated and will be removed from pandas in a future version. Use pandas.concat instead.\n",
      "  df = df.append({'Link':link, 'Title':title, 'Subtitle':subtitle, 'Price':price },\n",
      "C:\\Users\\Hammad\\AppData\\Local\\Temp\\ipykernel_4776\\591633955.py:7: FutureWarning: The frame.append method is deprecated and will be removed from pandas in a future version. Use pandas.concat instead.\n",
      "  df = df.append({'Link':link, 'Title':title, 'Subtitle':subtitle, 'Price':price },\n",
      "C:\\Users\\Hammad\\AppData\\Local\\Temp\\ipykernel_4776\\591633955.py:7: FutureWarning: The frame.append method is deprecated and will be removed from pandas in a future version. Use pandas.concat instead.\n",
      "  df = df.append({'Link':link, 'Title':title, 'Subtitle':subtitle, 'Price':price },\n",
      "C:\\Users\\Hammad\\AppData\\Local\\Temp\\ipykernel_4776\\591633955.py:7: FutureWarning: The frame.append method is deprecated and will be removed from pandas in a future version. Use pandas.concat instead.\n",
      "  df = df.append({'Link':link, 'Title':title, 'Subtitle':subtitle, 'Price':price },\n",
      "C:\\Users\\Hammad\\AppData\\Local\\Temp\\ipykernel_4776\\591633955.py:7: FutureWarning: The frame.append method is deprecated and will be removed from pandas in a future version. Use pandas.concat instead.\n",
      "  df = df.append({'Link':link, 'Title':title, 'Subtitle':subtitle, 'Price':price },\n",
      "C:\\Users\\Hammad\\AppData\\Local\\Temp\\ipykernel_4776\\591633955.py:7: FutureWarning: The frame.append method is deprecated and will be removed from pandas in a future version. Use pandas.concat instead.\n",
      "  df = df.append({'Link':link, 'Title':title, 'Subtitle':subtitle, 'Price':price },\n",
      "C:\\Users\\Hammad\\AppData\\Local\\Temp\\ipykernel_4776\\591633955.py:7: FutureWarning: The frame.append method is deprecated and will be removed from pandas in a future version. Use pandas.concat instead.\n",
      "  df = df.append({'Link':link, 'Title':title, 'Subtitle':subtitle, 'Price':price },\n",
      "C:\\Users\\Hammad\\AppData\\Local\\Temp\\ipykernel_4776\\591633955.py:7: FutureWarning: The frame.append method is deprecated and will be removed from pandas in a future version. Use pandas.concat instead.\n",
      "  df = df.append({'Link':link, 'Title':title, 'Subtitle':subtitle, 'Price':price },\n",
      "C:\\Users\\Hammad\\AppData\\Local\\Temp\\ipykernel_4776\\591633955.py:7: FutureWarning: The frame.append method is deprecated and will be removed from pandas in a future version. Use pandas.concat instead.\n",
      "  df = df.append({'Link':link, 'Title':title, 'Subtitle':subtitle, 'Price':price },\n",
      "C:\\Users\\Hammad\\AppData\\Local\\Temp\\ipykernel_4776\\591633955.py:7: FutureWarning: The frame.append method is deprecated and will be removed from pandas in a future version. Use pandas.concat instead.\n",
      "  df = df.append({'Link':link, 'Title':title, 'Subtitle':subtitle, 'Price':price },\n",
      "C:\\Users\\Hammad\\AppData\\Local\\Temp\\ipykernel_4776\\591633955.py:7: FutureWarning: The frame.append method is deprecated and will be removed from pandas in a future version. Use pandas.concat instead.\n",
      "  df = df.append({'Link':link, 'Title':title, 'Subtitle':subtitle, 'Price':price },\n",
      "C:\\Users\\Hammad\\AppData\\Local\\Temp\\ipykernel_4776\\591633955.py:7: FutureWarning: The frame.append method is deprecated and will be removed from pandas in a future version. Use pandas.concat instead.\n",
      "  df = df.append({'Link':link, 'Title':title, 'Subtitle':subtitle, 'Price':price },\n",
      "C:\\Users\\Hammad\\AppData\\Local\\Temp\\ipykernel_4776\\591633955.py:7: FutureWarning: The frame.append method is deprecated and will be removed from pandas in a future version. Use pandas.concat instead.\n",
      "  df = df.append({'Link':link, 'Title':title, 'Subtitle':subtitle, 'Price':price },\n",
      "C:\\Users\\Hammad\\AppData\\Local\\Temp\\ipykernel_4776\\591633955.py:7: FutureWarning: The frame.append method is deprecated and will be removed from pandas in a future version. Use pandas.concat instead.\n",
      "  df = df.append({'Link':link, 'Title':title, 'Subtitle':subtitle, 'Price':price },\n",
      "C:\\Users\\Hammad\\AppData\\Local\\Temp\\ipykernel_4776\\591633955.py:7: FutureWarning: The frame.append method is deprecated and will be removed from pandas in a future version. Use pandas.concat instead.\n",
      "  df = df.append({'Link':link, 'Title':title, 'Subtitle':subtitle, 'Price':price },\n",
      "C:\\Users\\Hammad\\AppData\\Local\\Temp\\ipykernel_4776\\591633955.py:7: FutureWarning: The frame.append method is deprecated and will be removed from pandas in a future version. Use pandas.concat instead.\n",
      "  df = df.append({'Link':link, 'Title':title, 'Subtitle':subtitle, 'Price':price },\n",
      "C:\\Users\\Hammad\\AppData\\Local\\Temp\\ipykernel_4776\\591633955.py:7: FutureWarning: The frame.append method is deprecated and will be removed from pandas in a future version. Use pandas.concat instead.\n",
      "  df = df.append({'Link':link, 'Title':title, 'Subtitle':subtitle, 'Price':price },\n",
      "C:\\Users\\Hammad\\AppData\\Local\\Temp\\ipykernel_4776\\591633955.py:7: FutureWarning: The frame.append method is deprecated and will be removed from pandas in a future version. Use pandas.concat instead.\n",
      "  df = df.append({'Link':link, 'Title':title, 'Subtitle':subtitle, 'Price':price },\n",
      "C:\\Users\\Hammad\\AppData\\Local\\Temp\\ipykernel_4776\\591633955.py:7: FutureWarning: The frame.append method is deprecated and will be removed from pandas in a future version. Use pandas.concat instead.\n",
      "  df = df.append({'Link':link, 'Title':title, 'Subtitle':subtitle, 'Price':price },\n",
      "C:\\Users\\Hammad\\AppData\\Local\\Temp\\ipykernel_4776\\591633955.py:7: FutureWarning: The frame.append method is deprecated and will be removed from pandas in a future version. Use pandas.concat instead.\n",
      "  df = df.append({'Link':link, 'Title':title, 'Subtitle':subtitle, 'Price':price },\n",
      "C:\\Users\\Hammad\\AppData\\Local\\Temp\\ipykernel_4776\\591633955.py:7: FutureWarning: The frame.append method is deprecated and will be removed from pandas in a future version. Use pandas.concat instead.\n",
      "  df = df.append({'Link':link, 'Title':title, 'Subtitle':subtitle, 'Price':price },\n",
      "C:\\Users\\Hammad\\AppData\\Local\\Temp\\ipykernel_4776\\591633955.py:7: FutureWarning: The frame.append method is deprecated and will be removed from pandas in a future version. Use pandas.concat instead.\n",
      "  df = df.append({'Link':link, 'Title':title, 'Subtitle':subtitle, 'Price':price },\n",
      "C:\\Users\\Hammad\\AppData\\Local\\Temp\\ipykernel_4776\\591633955.py:7: FutureWarning: The frame.append method is deprecated and will be removed from pandas in a future version. Use pandas.concat instead.\n",
      "  df = df.append({'Link':link, 'Title':title, 'Subtitle':subtitle, 'Price':price },\n",
      "C:\\Users\\Hammad\\AppData\\Local\\Temp\\ipykernel_4776\\591633955.py:7: FutureWarning: The frame.append method is deprecated and will be removed from pandas in a future version. Use pandas.concat instead.\n",
      "  df = df.append({'Link':link, 'Title':title, 'Subtitle':subtitle, 'Price':price },\n",
      "C:\\Users\\Hammad\\AppData\\Local\\Temp\\ipykernel_4776\\591633955.py:7: FutureWarning: The frame.append method is deprecated and will be removed from pandas in a future version. Use pandas.concat instead.\n",
      "  df = df.append({'Link':link, 'Title':title, 'Subtitle':subtitle, 'Price':price },\n",
      "C:\\Users\\Hammad\\AppData\\Local\\Temp\\ipykernel_4776\\591633955.py:7: FutureWarning: The frame.append method is deprecated and will be removed from pandas in a future version. Use pandas.concat instead.\n",
      "  df = df.append({'Link':link, 'Title':title, 'Subtitle':subtitle, 'Price':price },\n",
      "C:\\Users\\Hammad\\AppData\\Local\\Temp\\ipykernel_4776\\591633955.py:7: FutureWarning: The frame.append method is deprecated and will be removed from pandas in a future version. Use pandas.concat instead.\n",
      "  df = df.append({'Link':link, 'Title':title, 'Subtitle':subtitle, 'Price':price },\n",
      "C:\\Users\\Hammad\\AppData\\Local\\Temp\\ipykernel_4776\\591633955.py:7: FutureWarning: The frame.append method is deprecated and will be removed from pandas in a future version. Use pandas.concat instead.\n",
      "  df = df.append({'Link':link, 'Title':title, 'Subtitle':subtitle, 'Price':price },\n",
      "C:\\Users\\Hammad\\AppData\\Local\\Temp\\ipykernel_4776\\591633955.py:7: FutureWarning: The frame.append method is deprecated and will be removed from pandas in a future version. Use pandas.concat instead.\n",
      "  df = df.append({'Link':link, 'Title':title, 'Subtitle':subtitle, 'Price':price },\n",
      "C:\\Users\\Hammad\\AppData\\Local\\Temp\\ipykernel_4776\\591633955.py:7: FutureWarning: The frame.append method is deprecated and will be removed from pandas in a future version. Use pandas.concat instead.\n",
      "  df = df.append({'Link':link, 'Title':title, 'Subtitle':subtitle, 'Price':price },\n",
      "C:\\Users\\Hammad\\AppData\\Local\\Temp\\ipykernel_4776\\591633955.py:7: FutureWarning: The frame.append method is deprecated and will be removed from pandas in a future version. Use pandas.concat instead.\n",
      "  df = df.append({'Link':link, 'Title':title, 'Subtitle':subtitle, 'Price':price },\n",
      "C:\\Users\\Hammad\\AppData\\Local\\Temp\\ipykernel_4776\\591633955.py:7: FutureWarning: The frame.append method is deprecated and will be removed from pandas in a future version. Use pandas.concat instead.\n",
      "  df = df.append({'Link':link, 'Title':title, 'Subtitle':subtitle, 'Price':price },\n",
      "C:\\Users\\Hammad\\AppData\\Local\\Temp\\ipykernel_4776\\591633955.py:7: FutureWarning: The frame.append method is deprecated and will be removed from pandas in a future version. Use pandas.concat instead.\n",
      "  df = df.append({'Link':link, 'Title':title, 'Subtitle':subtitle, 'Price':price },\n",
      "C:\\Users\\Hammad\\AppData\\Local\\Temp\\ipykernel_4776\\591633955.py:7: FutureWarning: The frame.append method is deprecated and will be removed from pandas in a future version. Use pandas.concat instead.\n",
      "  df = df.append({'Link':link, 'Title':title, 'Subtitle':subtitle, 'Price':price },\n",
      "C:\\Users\\Hammad\\AppData\\Local\\Temp\\ipykernel_4776\\591633955.py:7: FutureWarning: The frame.append method is deprecated and will be removed from pandas in a future version. Use pandas.concat instead.\n",
      "  df = df.append({'Link':link, 'Title':title, 'Subtitle':subtitle, 'Price':price },\n",
      "C:\\Users\\Hammad\\AppData\\Local\\Temp\\ipykernel_4776\\591633955.py:7: FutureWarning: The frame.append method is deprecated and will be removed from pandas in a future version. Use pandas.concat instead.\n",
      "  df = df.append({'Link':link, 'Title':title, 'Subtitle':subtitle, 'Price':price },\n",
      "C:\\Users\\Hammad\\AppData\\Local\\Temp\\ipykernel_4776\\591633955.py:7: FutureWarning: The frame.append method is deprecated and will be removed from pandas in a future version. Use pandas.concat instead.\n",
      "  df = df.append({'Link':link, 'Title':title, 'Subtitle':subtitle, 'Price':price },\n",
      "C:\\Users\\Hammad\\AppData\\Local\\Temp\\ipykernel_4776\\591633955.py:7: FutureWarning: The frame.append method is deprecated and will be removed from pandas in a future version. Use pandas.concat instead.\n",
      "  df = df.append({'Link':link, 'Title':title, 'Subtitle':subtitle, 'Price':price },\n",
      "C:\\Users\\Hammad\\AppData\\Local\\Temp\\ipykernel_4776\\591633955.py:7: FutureWarning: The frame.append method is deprecated and will be removed from pandas in a future version. Use pandas.concat instead.\n",
      "  df = df.append({'Link':link, 'Title':title, 'Subtitle':subtitle, 'Price':price },\n",
      "C:\\Users\\Hammad\\AppData\\Local\\Temp\\ipykernel_4776\\591633955.py:7: FutureWarning: The frame.append method is deprecated and will be removed from pandas in a future version. Use pandas.concat instead.\n",
      "  df = df.append({'Link':link, 'Title':title, 'Subtitle':subtitle, 'Price':price },\n",
      "C:\\Users\\Hammad\\AppData\\Local\\Temp\\ipykernel_4776\\591633955.py:7: FutureWarning: The frame.append method is deprecated and will be removed from pandas in a future version. Use pandas.concat instead.\n",
      "  df = df.append({'Link':link, 'Title':title, 'Subtitle':subtitle, 'Price':price },\n",
      "C:\\Users\\Hammad\\AppData\\Local\\Temp\\ipykernel_4776\\591633955.py:7: FutureWarning: The frame.append method is deprecated and will be removed from pandas in a future version. Use pandas.concat instead.\n",
      "  df = df.append({'Link':link, 'Title':title, 'Subtitle':subtitle, 'Price':price },\n",
      "C:\\Users\\Hammad\\AppData\\Local\\Temp\\ipykernel_4776\\591633955.py:7: FutureWarning: The frame.append method is deprecated and will be removed from pandas in a future version. Use pandas.concat instead.\n",
      "  df = df.append({'Link':link, 'Title':title, 'Subtitle':subtitle, 'Price':price },\n",
      "C:\\Users\\Hammad\\AppData\\Local\\Temp\\ipykernel_4776\\591633955.py:7: FutureWarning: The frame.append method is deprecated and will be removed from pandas in a future version. Use pandas.concat instead.\n",
      "  df = df.append({'Link':link, 'Title':title, 'Subtitle':subtitle, 'Price':price },\n",
      "C:\\Users\\Hammad\\AppData\\Local\\Temp\\ipykernel_4776\\591633955.py:7: FutureWarning: The frame.append method is deprecated and will be removed from pandas in a future version. Use pandas.concat instead.\n",
      "  df = df.append({'Link':link, 'Title':title, 'Subtitle':subtitle, 'Price':price },\n",
      "C:\\Users\\Hammad\\AppData\\Local\\Temp\\ipykernel_4776\\591633955.py:7: FutureWarning: The frame.append method is deprecated and will be removed from pandas in a future version. Use pandas.concat instead.\n",
      "  df = df.append({'Link':link, 'Title':title, 'Subtitle':subtitle, 'Price':price },\n",
      "C:\\Users\\Hammad\\AppData\\Local\\Temp\\ipykernel_4776\\591633955.py:7: FutureWarning: The frame.append method is deprecated and will be removed from pandas in a future version. Use pandas.concat instead.\n",
      "  df = df.append({'Link':link, 'Title':title, 'Subtitle':subtitle, 'Price':price },\n",
      "C:\\Users\\Hammad\\AppData\\Local\\Temp\\ipykernel_4776\\591633955.py:7: FutureWarning: The frame.append method is deprecated and will be removed from pandas in a future version. Use pandas.concat instead.\n",
      "  df = df.append({'Link':link, 'Title':title, 'Subtitle':subtitle, 'Price':price },\n",
      "C:\\Users\\Hammad\\AppData\\Local\\Temp\\ipykernel_4776\\591633955.py:7: FutureWarning: The frame.append method is deprecated and will be removed from pandas in a future version. Use pandas.concat instead.\n",
      "  df = df.append({'Link':link, 'Title':title, 'Subtitle':subtitle, 'Price':price },\n",
      "C:\\Users\\Hammad\\AppData\\Local\\Temp\\ipykernel_4776\\591633955.py:7: FutureWarning: The frame.append method is deprecated and will be removed from pandas in a future version. Use pandas.concat instead.\n",
      "  df = df.append({'Link':link, 'Title':title, 'Subtitle':subtitle, 'Price':price },\n",
      "C:\\Users\\Hammad\\AppData\\Local\\Temp\\ipykernel_4776\\591633955.py:7: FutureWarning: The frame.append method is deprecated and will be removed from pandas in a future version. Use pandas.concat instead.\n",
      "  df = df.append({'Link':link, 'Title':title, 'Subtitle':subtitle, 'Price':price },\n",
      "C:\\Users\\Hammad\\AppData\\Local\\Temp\\ipykernel_4776\\591633955.py:7: FutureWarning: The frame.append method is deprecated and will be removed from pandas in a future version. Use pandas.concat instead.\n",
      "  df = df.append({'Link':link, 'Title':title, 'Subtitle':subtitle, 'Price':price },\n",
      "C:\\Users\\Hammad\\AppData\\Local\\Temp\\ipykernel_4776\\591633955.py:7: FutureWarning: The frame.append method is deprecated and will be removed from pandas in a future version. Use pandas.concat instead.\n",
      "  df = df.append({'Link':link, 'Title':title, 'Subtitle':subtitle, 'Price':price },\n",
      "C:\\Users\\Hammad\\AppData\\Local\\Temp\\ipykernel_4776\\591633955.py:7: FutureWarning: The frame.append method is deprecated and will be removed from pandas in a future version. Use pandas.concat instead.\n",
      "  df = df.append({'Link':link, 'Title':title, 'Subtitle':subtitle, 'Price':price },\n",
      "C:\\Users\\Hammad\\AppData\\Local\\Temp\\ipykernel_4776\\591633955.py:7: FutureWarning: The frame.append method is deprecated and will be removed from pandas in a future version. Use pandas.concat instead.\n",
      "  df = df.append({'Link':link, 'Title':title, 'Subtitle':subtitle, 'Price':price },\n",
      "C:\\Users\\Hammad\\AppData\\Local\\Temp\\ipykernel_4776\\591633955.py:7: FutureWarning: The frame.append method is deprecated and will be removed from pandas in a future version. Use pandas.concat instead.\n",
      "  df = df.append({'Link':link, 'Title':title, 'Subtitle':subtitle, 'Price':price },\n",
      "C:\\Users\\Hammad\\AppData\\Local\\Temp\\ipykernel_4776\\591633955.py:7: FutureWarning: The frame.append method is deprecated and will be removed from pandas in a future version. Use pandas.concat instead.\n",
      "  df = df.append({'Link':link, 'Title':title, 'Subtitle':subtitle, 'Price':price },\n",
      "C:\\Users\\Hammad\\AppData\\Local\\Temp\\ipykernel_4776\\591633955.py:7: FutureWarning: The frame.append method is deprecated and will be removed from pandas in a future version. Use pandas.concat instead.\n",
      "  df = df.append({'Link':link, 'Title':title, 'Subtitle':subtitle, 'Price':price },\n",
      "C:\\Users\\Hammad\\AppData\\Local\\Temp\\ipykernel_4776\\591633955.py:7: FutureWarning: The frame.append method is deprecated and will be removed from pandas in a future version. Use pandas.concat instead.\n",
      "  df = df.append({'Link':link, 'Title':title, 'Subtitle':subtitle, 'Price':price },\n",
      "C:\\Users\\Hammad\\AppData\\Local\\Temp\\ipykernel_4776\\591633955.py:7: FutureWarning: The frame.append method is deprecated and will be removed from pandas in a future version. Use pandas.concat instead.\n",
      "  df = df.append({'Link':link, 'Title':title, 'Subtitle':subtitle, 'Price':price },\n",
      "C:\\Users\\Hammad\\AppData\\Local\\Temp\\ipykernel_4776\\591633955.py:7: FutureWarning: The frame.append method is deprecated and will be removed from pandas in a future version. Use pandas.concat instead.\n",
      "  df = df.append({'Link':link, 'Title':title, 'Subtitle':subtitle, 'Price':price },\n",
      "C:\\Users\\Hammad\\AppData\\Local\\Temp\\ipykernel_4776\\591633955.py:7: FutureWarning: The frame.append method is deprecated and will be removed from pandas in a future version. Use pandas.concat instead.\n",
      "  df = df.append({'Link':link, 'Title':title, 'Subtitle':subtitle, 'Price':price },\n",
      "C:\\Users\\Hammad\\AppData\\Local\\Temp\\ipykernel_4776\\591633955.py:7: FutureWarning: The frame.append method is deprecated and will be removed from pandas in a future version. Use pandas.concat instead.\n",
      "  df = df.append({'Link':link, 'Title':title, 'Subtitle':subtitle, 'Price':price },\n",
      "C:\\Users\\Hammad\\AppData\\Local\\Temp\\ipykernel_4776\\591633955.py:7: FutureWarning: The frame.append method is deprecated and will be removed from pandas in a future version. Use pandas.concat instead.\n",
      "  df = df.append({'Link':link, 'Title':title, 'Subtitle':subtitle, 'Price':price },\n",
      "C:\\Users\\Hammad\\AppData\\Local\\Temp\\ipykernel_4776\\591633955.py:7: FutureWarning: The frame.append method is deprecated and will be removed from pandas in a future version. Use pandas.concat instead.\n",
      "  df = df.append({'Link':link, 'Title':title, 'Subtitle':subtitle, 'Price':price },\n",
      "C:\\Users\\Hammad\\AppData\\Local\\Temp\\ipykernel_4776\\591633955.py:7: FutureWarning: The frame.append method is deprecated and will be removed from pandas in a future version. Use pandas.concat instead.\n",
      "  df = df.append({'Link':link, 'Title':title, 'Subtitle':subtitle, 'Price':price },\n",
      "C:\\Users\\Hammad\\AppData\\Local\\Temp\\ipykernel_4776\\591633955.py:7: FutureWarning: The frame.append method is deprecated and will be removed from pandas in a future version. Use pandas.concat instead.\n",
      "  df = df.append({'Link':link, 'Title':title, 'Subtitle':subtitle, 'Price':price },\n",
      "C:\\Users\\Hammad\\AppData\\Local\\Temp\\ipykernel_4776\\591633955.py:7: FutureWarning: The frame.append method is deprecated and will be removed from pandas in a future version. Use pandas.concat instead.\n",
      "  df = df.append({'Link':link, 'Title':title, 'Subtitle':subtitle, 'Price':price },\n",
      "C:\\Users\\Hammad\\AppData\\Local\\Temp\\ipykernel_4776\\591633955.py:7: FutureWarning: The frame.append method is deprecated and will be removed from pandas in a future version. Use pandas.concat instead.\n",
      "  df = df.append({'Link':link, 'Title':title, 'Subtitle':subtitle, 'Price':price },\n",
      "C:\\Users\\Hammad\\AppData\\Local\\Temp\\ipykernel_4776\\591633955.py:7: FutureWarning: The frame.append method is deprecated and will be removed from pandas in a future version. Use pandas.concat instead.\n",
      "  df = df.append({'Link':link, 'Title':title, 'Subtitle':subtitle, 'Price':price },\n",
      "C:\\Users\\Hammad\\AppData\\Local\\Temp\\ipykernel_4776\\591633955.py:7: FutureWarning: The frame.append method is deprecated and will be removed from pandas in a future version. Use pandas.concat instead.\n",
      "  df = df.append({'Link':link, 'Title':title, 'Subtitle':subtitle, 'Price':price },\n",
      "C:\\Users\\Hammad\\AppData\\Local\\Temp\\ipykernel_4776\\591633955.py:7: FutureWarning: The frame.append method is deprecated and will be removed from pandas in a future version. Use pandas.concat instead.\n",
      "  df = df.append({'Link':link, 'Title':title, 'Subtitle':subtitle, 'Price':price },\n",
      "C:\\Users\\Hammad\\AppData\\Local\\Temp\\ipykernel_4776\\591633955.py:7: FutureWarning: The frame.append method is deprecated and will be removed from pandas in a future version. Use pandas.concat instead.\n",
      "  df = df.append({'Link':link, 'Title':title, 'Subtitle':subtitle, 'Price':price },\n",
      "C:\\Users\\Hammad\\AppData\\Local\\Temp\\ipykernel_4776\\591633955.py:7: FutureWarning: The frame.append method is deprecated and will be removed from pandas in a future version. Use pandas.concat instead.\n",
      "  df = df.append({'Link':link, 'Title':title, 'Subtitle':subtitle, 'Price':price },\n",
      "C:\\Users\\Hammad\\AppData\\Local\\Temp\\ipykernel_4776\\591633955.py:7: FutureWarning: The frame.append method is deprecated and will be removed from pandas in a future version. Use pandas.concat instead.\n",
      "  df = df.append({'Link':link, 'Title':title, 'Subtitle':subtitle, 'Price':price },\n",
      "C:\\Users\\Hammad\\AppData\\Local\\Temp\\ipykernel_4776\\591633955.py:7: FutureWarning: The frame.append method is deprecated and will be removed from pandas in a future version. Use pandas.concat instead.\n",
      "  df = df.append({'Link':link, 'Title':title, 'Subtitle':subtitle, 'Price':price },\n",
      "C:\\Users\\Hammad\\AppData\\Local\\Temp\\ipykernel_4776\\591633955.py:7: FutureWarning: The frame.append method is deprecated and will be removed from pandas in a future version. Use pandas.concat instead.\n",
      "  df = df.append({'Link':link, 'Title':title, 'Subtitle':subtitle, 'Price':price },\n",
      "C:\\Users\\Hammad\\AppData\\Local\\Temp\\ipykernel_4776\\591633955.py:7: FutureWarning: The frame.append method is deprecated and will be removed from pandas in a future version. Use pandas.concat instead.\n",
      "  df = df.append({'Link':link, 'Title':title, 'Subtitle':subtitle, 'Price':price },\n",
      "C:\\Users\\Hammad\\AppData\\Local\\Temp\\ipykernel_4776\\591633955.py:7: FutureWarning: The frame.append method is deprecated and will be removed from pandas in a future version. Use pandas.concat instead.\n",
      "  df = df.append({'Link':link, 'Title':title, 'Subtitle':subtitle, 'Price':price },\n",
      "C:\\Users\\Hammad\\AppData\\Local\\Temp\\ipykernel_4776\\591633955.py:7: FutureWarning: The frame.append method is deprecated and will be removed from pandas in a future version. Use pandas.concat instead.\n",
      "  df = df.append({'Link':link, 'Title':title, 'Subtitle':subtitle, 'Price':price },\n",
      "C:\\Users\\Hammad\\AppData\\Local\\Temp\\ipykernel_4776\\591633955.py:7: FutureWarning: The frame.append method is deprecated and will be removed from pandas in a future version. Use pandas.concat instead.\n",
      "  df = df.append({'Link':link, 'Title':title, 'Subtitle':subtitle, 'Price':price },\n",
      "C:\\Users\\Hammad\\AppData\\Local\\Temp\\ipykernel_4776\\591633955.py:7: FutureWarning: The frame.append method is deprecated and will be removed from pandas in a future version. Use pandas.concat instead.\n",
      "  df = df.append({'Link':link, 'Title':title, 'Subtitle':subtitle, 'Price':price },\n",
      "C:\\Users\\Hammad\\AppData\\Local\\Temp\\ipykernel_4776\\591633955.py:7: FutureWarning: The frame.append method is deprecated and will be removed from pandas in a future version. Use pandas.concat instead.\n",
      "  df = df.append({'Link':link, 'Title':title, 'Subtitle':subtitle, 'Price':price },\n",
      "C:\\Users\\Hammad\\AppData\\Local\\Temp\\ipykernel_4776\\591633955.py:7: FutureWarning: The frame.append method is deprecated and will be removed from pandas in a future version. Use pandas.concat instead.\n",
      "  df = df.append({'Link':link, 'Title':title, 'Subtitle':subtitle, 'Price':price },\n",
      "C:\\Users\\Hammad\\AppData\\Local\\Temp\\ipykernel_4776\\591633955.py:7: FutureWarning: The frame.append method is deprecated and will be removed from pandas in a future version. Use pandas.concat instead.\n",
      "  df = df.append({'Link':link, 'Title':title, 'Subtitle':subtitle, 'Price':price },\n",
      "C:\\Users\\Hammad\\AppData\\Local\\Temp\\ipykernel_4776\\591633955.py:7: FutureWarning: The frame.append method is deprecated and will be removed from pandas in a future version. Use pandas.concat instead.\n",
      "  df = df.append({'Link':link, 'Title':title, 'Subtitle':subtitle, 'Price':price },\n",
      "C:\\Users\\Hammad\\AppData\\Local\\Temp\\ipykernel_4776\\591633955.py:7: FutureWarning: The frame.append method is deprecated and will be removed from pandas in a future version. Use pandas.concat instead.\n",
      "  df = df.append({'Link':link, 'Title':title, 'Subtitle':subtitle, 'Price':price },\n",
      "C:\\Users\\Hammad\\AppData\\Local\\Temp\\ipykernel_4776\\591633955.py:7: FutureWarning: The frame.append method is deprecated and will be removed from pandas in a future version. Use pandas.concat instead.\n",
      "  df = df.append({'Link':link, 'Title':title, 'Subtitle':subtitle, 'Price':price },\n",
      "C:\\Users\\Hammad\\AppData\\Local\\Temp\\ipykernel_4776\\591633955.py:7: FutureWarning: The frame.append method is deprecated and will be removed from pandas in a future version. Use pandas.concat instead.\n",
      "  df = df.append({'Link':link, 'Title':title, 'Subtitle':subtitle, 'Price':price },\n"
     ]
    }
   ],
   "source": [
    "for post in postings:\n",
    "    try:\n",
    "        link = post.find('a', {'class':'product-card__link-overlay'}).get('href')\n",
    "        title = post.find('div', {'class':'product-card__title'}).text\n",
    "        subtitle = post.find('div', {'class':'product-card__subtitle'}).text\n",
    "        price = post.find('div', {'class':'product-price is--current-price css-1ydfahe'}).text\n",
    "        df = df.append({'Link':link, 'Title':title, 'Subtitle':subtitle, 'Price':price },\n",
    "                        ignore_index=True)\n",
    "    except:\n",
    "        pass"
   ]
  },
  {
   "cell_type": "code",
   "execution_count": 12,
   "metadata": {},
   "outputs": [
    {
     "data": {
      "text/plain": [
       "(96, 4)"
      ]
     },
     "execution_count": 12,
     "metadata": {},
     "output_type": "execute_result"
    }
   ],
   "source": [
    "df.shape"
   ]
  }
 ],
 "metadata": {
  "kernelspec": {
   "display_name": "Python 3 (ipykernel)",
   "language": "python",
   "name": "python3"
  },
  "language_info": {
   "codemirror_mode": {
    "name": "ipython",
    "version": 3
   },
   "file_extension": ".py",
   "mimetype": "text/x-python",
   "name": "python",
   "nbconvert_exporter": "python",
   "pygments_lexer": "ipython3",
   "version": "3.11.0"
  },
  "vscode": {
   "interpreter": {
    "hash": "418130ca483e386e143512f23ae96779bdad47ad4e6a59ff8b72600d5f974771"
   }
  }
 },
 "nbformat": 4,
 "nbformat_minor": 2
}
